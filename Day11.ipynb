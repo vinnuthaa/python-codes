{
 "cells": [
  {
   "cell_type": "code",
   "execution_count": null,
   "id": "73037ab7-cf38-459e-9340-037b54527eea",
   "metadata": {},
   "outputs": [],
   "source": [
    "class node:\n",
    "    def __init__(self,value):\n",
    "        self.data=value\n",
    "        self.next=node\n",
    "\n",
    "Head = node(1)\n",
    "Head.next = node(2)\n",
    "Head.next.next = node(3)\n",
    "Head.next.next.next= node(4)\n",
    "Head.next.next.next.next = node(5)\n",
    "\n",
    "print(Head.data,\"-->\",\n",
    "Head.next.data,\"-->\",\n",
    "Head.next.next.data,\"-->\",\n",
    "Head.next.next.next.data,\"-->\",\n",
    "Head.next.next.next.next.data,\"-->\",)"
   ]
  },
  {
   "cell_type": "code",
   "execution_count": null,
   "id": "4d1886bb-8aea-4c9c-ad4f-161208d89945",
   "metadata": {},
   "outputs": [],
   "source": [
    "x=int(input())\n",
    "temp = node(x)\n",
    "temp.next = Head\n",
    "Head=temp\n",
    "\n",
    "print(Head.data)"
   ]
  },
  {
   "cell_type": "code",
   "execution_count": null,
   "id": "cc9d8897-5b87-4752-a7fd-17065b1e1b14",
   "metadata": {},
   "outputs": [],
   "source": [
    "print(Head.data,\"-->\",\n",
    "Head.next.data,\"-->\",\n",
    "Head.next.next.data,\"-->\",\n",
    "Head.next.next.next.data,\"-->\",\n",
    "Head.next.next.next.next.data,\"-->\",\n",
    "Head.next.next.next.next.next.data,\"-->\",)"
   ]
  },
  {
   "cell_type": "code",
   "execution_count": null,
   "id": "ace94fd6-4192-4754-a1fa-6b70d7727a59",
   "metadata": {},
   "outputs": [],
   "source": [
    "x=int(input())\n",
    "temp=node(x)\n",
    "curr=Head\n",
    "\n",
    "if curr==None:\n",
    "    Head=temp\n",
    "else:\n",
    "    \n",
    "    while curr.next != None:\n",
    "        curr = curr.next\n",
    "    curr.next=temp"
   ]
  },
  {
   "cell_type": "code",
   "execution_count": null,
   "id": "9a257f75-b149-4575-8ae6-ca3ef5f7d18d",
   "metadata": {},
   "outputs": [],
   "source": [
    "l=int(input(\"enter the location value: \"))\n",
    "x=int(input(\"enter the value: \"))\n",
    "curr = Head\n",
    "while curr != None:\n",
    "    if(curr.data == l):\n",
    "        break\n",
    "    curr =curr.next\n",
    "temp=node(x)\n",
    "temp.next=curr.next\n",
    "curr.next=temp"
   ]
  },
  {
   "cell_type": "code",
   "execution_count": null,
   "id": "5ca42aeb-f0c6-4272-9d05-e19df9722f59",
   "metadata": {},
   "outputs": [],
   "source": [
    "curr = Head\n",
    "\n",
    "while curr!=None:\n",
    "    print(curr.data,\"-->\",end=\" \")\n",
    "    curr=curr.next"
   ]
  },
  {
   "cell_type": "code",
   "execution_count": null,
   "id": "b56702a7-915b-405d-a1c0-f9a8a4e395c7",
   "metadata": {},
   "outputs": [],
   "source": [
    "class node:\n",
    "    def __init__(self,value):\n",
    "        self.data=value\n",
    "        self.next=node\n",
    "\n",
    "Head = node(1)\n",
    "Head.next = node(2)\n",
    "Head.next.next = node(3)\n",
    "Head.next.next.next= node(4)\n",
    "Head.next.next.next.next = node(5)\n",
    "\n",
    "print(Head.data,\"-->\",\n",
    "Head.next.data,\"-->\",\n",
    "Head.next.next.data,\"-->\",\n",
    "Head.next.next.next.data,\"-->\",\n",
    "Head.next.next.next.next.data,\"-->\",)"
   ]
  },
  {
   "cell_type": "code",
   "execution_count": null,
   "id": "7219bae5-6ae1-4c33-a926-0edf6c64f07b",
   "metadata": {},
   "outputs": [],
   "source": [
    "x=int(input())\n",
    "temp = node(x)\n",
    "temp.next = Head\n",
    "Head=temp\n",
    "\n",
    "print(Head.data)"
   ]
  },
  {
   "cell_type": "code",
   "execution_count": 4,
   "id": "587518f8-7b99-46a0-ae90-62faceca966e",
   "metadata": {},
   "outputs": [
    {
     "name": "stdout",
     "output_type": "stream",
     "text": [
      "1\n",
      "<__main__.node object at 0x000001751D36C1D0>\n",
      "<__main__.node object at 0x000001751D36C650>\n"
     ]
    }
   ],
   "source": [
    "#Tree\n",
    "\n",
    "class node:\n",
    "    def __init__(self,value):\n",
    "        self.data=value\n",
    "        self.left=None\n",
    "        self.right=None\n",
    "\n",
    "def preorder(root):\n",
    "    if root == None:\n",
    "        \n",
    "        return\n",
    "\n",
    "    \n",
    "    print(root.data)\n",
    "    print(root.left)\n",
    "    print(root.right)\n",
    "    \n",
    "root=node(1)\n",
    "root.right=node(2)\n",
    "root.left=node(3)\n",
    "\n",
    "root.left.left=node(4)\n",
    "root.left.night=node(5)\n",
    "root.right.left=node(6)\n",
    "root.right.right=node(7)\n",
    "preorder(root)"
   ]
  },
  {
   "cell_type": "code",
   "execution_count": null,
   "id": "5c83adcc-831d-4461-90db-0d9340db9a56",
   "metadata": {},
   "outputs": [],
   "source": []
  }
 ],
 "metadata": {
  "kernelspec": {
   "display_name": "Python 3 (ipykernel)",
   "language": "python",
   "name": "python3"
  },
  "language_info": {
   "codemirror_mode": {
    "name": "ipython",
    "version": 3
   },
   "file_extension": ".py",
   "mimetype": "text/x-python",
   "name": "python",
   "nbconvert_exporter": "python",
   "pygments_lexer": "ipython3",
   "version": "3.12.3"
  }
 },
 "nbformat": 4,
 "nbformat_minor": 5
}
