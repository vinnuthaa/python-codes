{
 "cells": [
  {
   "cell_type": "code",
   "execution_count": 1,
   "id": "a32588d8-02cb-4719-bbe5-7a23c7b7b1cd",
   "metadata": {},
   "outputs": [
    {
     "name": "stdout",
     "output_type": "stream",
     "text": [
      "\n",
      "1. Create Server Details\n",
      "2. Display Server Details\n",
      "3. Update Server Details\n",
      "4. Delete Server Details\n",
      "5. Display Health of All Servers\n",
      "6. Display Downtime of All Systems\n",
      "7. Exit\n",
      "\n"
     ]
    },
    {
     "name": "stdin",
     "output_type": "stream",
     "text": [
      "Enter your choice:  1\n",
      "Enter system name:  one\n",
      "Enter CPU temperature for one (in Celsius):  60\n",
      "Enter CPU usage for one (in percentage):  50\n",
      "Enter memory usage for one (in percentage):  67\n"
     ]
    },
    {
     "name": "stdout",
     "output_type": "stream",
     "text": [
      "Server details for one written to one_details.txt\n",
      "\n",
      "1. Create Server Details\n",
      "2. Display Server Details\n",
      "3. Update Server Details\n",
      "4. Delete Server Details\n",
      "5. Display Health of All Servers\n",
      "6. Display Downtime of All Systems\n",
      "7. Exit\n",
      "\n"
     ]
    },
    {
     "name": "stdin",
     "output_type": "stream",
     "text": [
      "Enter your choice:  2\n",
      "Enter system name:  one\n"
     ]
    },
    {
     "name": "stdout",
     "output_type": "stream",
     "text": [
      "CPU Temperature: 60.0°C\n",
      "CPU Usage: 50.0%\n",
      "Memory Usage: 67.0%\n",
      "System Health: Good\n",
      "System Downtime: no\n",
      "\n",
      "\n",
      "1. Create Server Details\n",
      "2. Display Server Details\n",
      "3. Update Server Details\n",
      "4. Delete Server Details\n",
      "5. Display Health of All Servers\n",
      "6. Display Downtime of All Systems\n",
      "7. Exit\n",
      "\n"
     ]
    },
    {
     "name": "stdin",
     "output_type": "stream",
     "text": [
      "Enter your choice:  3\n",
      "Enter system name:  one\n",
      "Enter new CPU temperature for one (in Celsius):  89\n",
      "Enter new CPU usage for one (in percentage):  77\n",
      "Enter new memory usage for one (in percentage):  87\n"
     ]
    },
    {
     "name": "stdout",
     "output_type": "stream",
     "text": [
      "Server details for one updated successfully.\n",
      "\n",
      "\n",
      "1. Create Server Details\n",
      "2. Display Server Details\n",
      "3. Update Server Details\n",
      "4. Delete Server Details\n",
      "5. Display Health of All Servers\n",
      "6. Display Downtime of All Systems\n",
      "7. Exit\n",
      "\n"
     ]
    },
    {
     "name": "stdin",
     "output_type": "stream",
     "text": [
      "Enter your choice:  5\n"
     ]
    },
    {
     "name": "stdout",
     "output_type": "stream",
     "text": [
      "one: System Health: Critical\n",
      "\n",
      "1. Create Server Details\n",
      "2. Display Server Details\n",
      "3. Update Server Details\n",
      "4. Delete Server Details\n",
      "5. Display Health of All Servers\n",
      "6. Display Downtime of All Systems\n",
      "7. Exit\n",
      "\n"
     ]
    },
    {
     "name": "stdin",
     "output_type": "stream",
     "text": [
      "Enter your choice:  6\n"
     ]
    },
    {
     "name": "stdout",
     "output_type": "stream",
     "text": [
      "one: System Downtime: yes\n",
      "\n",
      "1. Create Server Details\n",
      "2. Display Server Details\n",
      "3. Update Server Details\n",
      "4. Delete Server Details\n",
      "5. Display Health of All Servers\n",
      "6. Display Downtime of All Systems\n",
      "7. Exit\n",
      "\n"
     ]
    },
    {
     "name": "stdin",
     "output_type": "stream",
     "text": [
      "Enter your choice:  2\n",
      "Enter system name:  one\n"
     ]
    },
    {
     "name": "stdout",
     "output_type": "stream",
     "text": [
      "CPU Temperature: 89°C\n",
      "CPU Usage: 77%\n",
      "Memory Usage: 87%\n",
      "System Health: Critical\n",
      "System Downtime: yes\n",
      "\n",
      "\n",
      "1. Create Server Details\n",
      "2. Display Server Details\n",
      "3. Update Server Details\n",
      "4. Delete Server Details\n",
      "5. Display Health of All Servers\n",
      "6. Display Downtime of All Systems\n",
      "7. Exit\n",
      "\n"
     ]
    },
    {
     "name": "stdin",
     "output_type": "stream",
     "text": [
      "Enter your choice:  4\n",
      "Enter system name:  one\n"
     ]
    },
    {
     "name": "stdout",
     "output_type": "stream",
     "text": [
      "Server details file for one deleted successfully.\n",
      "\n",
      "\n",
      "1. Create Server Details\n",
      "2. Display Server Details\n",
      "3. Update Server Details\n",
      "4. Delete Server Details\n",
      "5. Display Health of All Servers\n",
      "6. Display Downtime of All Systems\n",
      "7. Exit\n",
      "\n"
     ]
    },
    {
     "name": "stdin",
     "output_type": "stream",
     "text": [
      "Enter your choice:  7\n"
     ]
    },
    {
     "name": "stdout",
     "output_type": "stream",
     "text": [
      "\n",
      "Exiting...\n"
     ]
    }
   ],
   "source": [
    "import os\n",
    "\n",
    "class ServerDetails:\n",
    "    def __init__(self, system_name):\n",
    "        self.system_name = system_name\n",
    "\n",
    "    def write_server_details(self):\n",
    "        try:\n",
    "            cpu_temp = float(input(f\"Enter CPU temperature for {self.system_name} (in Celsius): \"))\n",
    "            cpu_usage = float(input(f\"Enter CPU usage for {self.system_name} (in percentage): \"))\n",
    "            memory_usage = float(input(f\"Enter memory usage for {self.system_name} (in percentage): \"))\n",
    "\n",
    "            # Determine system health based on CPU usage and memory usage\n",
    "            if cpu_usage > 70 or memory_usage > 70:\n",
    "                system_health = \"Critical\"\n",
    "            else:\n",
    "                system_health = \"Good\"\n",
    "\n",
    "            # Determine system downtime based on CPU temperature\n",
    "            if cpu_temp > 70:\n",
    "                downtime = \"yes\"\n",
    "            else:\n",
    "                downtime = \"no\"\n",
    "\n",
    "            with open(f\"{self.system_name}_details.txt\", \"w\") as file:\n",
    "                file.write(f\"CPU Temperature: {cpu_temp}°C\\n\")\n",
    "                file.write(f\"CPU Usage: {cpu_usage}%\\n\")\n",
    "                file.write(f\"Memory Usage: {memory_usage}%\\n\")\n",
    "                file.write(f\"System Health: {system_health}\\n\")\n",
    "                file.write(f\"System Downtime: {downtime}\\n\")\n",
    "            print(f\"Server details for {self.system_name} written to {self.system_name}_details.txt\")\n",
    "        except Exception as e:\n",
    "            print(f\"Error writing server details for {self.system_name}: {e}\\n\")\n",
    "\n",
    "    def read_server_details(self):\n",
    "        try:\n",
    "            with open(f\"{self.system_name}_details.txt\", \"r\") as file:\n",
    "                server_details = file.read()\n",
    "                print(server_details)\n",
    "        except FileNotFoundError:\n",
    "            print(f\"File '{self.system_name}_details.txt' not found.\\n\")\n",
    "\n",
    "    def update_server_details(self):\n",
    "        try:\n",
    "            with open(f\"{self.system_name}_details.txt\", \"r+\") as file:\n",
    "                lines = file.readlines()\n",
    "                file.seek(0)\n",
    "                for line in lines:\n",
    "                    if \"CPU Temperature:\" in line:\n",
    "                        new_cpu_temp = input(f\"Enter new CPU temperature for {self.system_name} (in Celsius): \")\n",
    "                        file.write(f\"CPU Temperature: {new_cpu_temp}°C\\n\")\n",
    "                    elif \"CPU Usage:\" in line:\n",
    "                        new_cpu_usage = input(f\"Enter new CPU usage for {self.system_name} (in percentage): \")\n",
    "                        file.write(f\"CPU Usage: {new_cpu_usage}%\\n\")\n",
    "                    elif \"Memory Usage:\" in line:\n",
    "                        new_memory_usage = input(f\"Enter new memory usage for {self.system_name} (in percentage): \")\n",
    "                        file.write(f\"Memory Usage: {new_memory_usage}%\\n\")\n",
    "                    elif \"System Health:\" in line:\n",
    "                        new_cpu_usage = float(new_cpu_usage)\n",
    "                        new_memory_usage = float(new_memory_usage)\n",
    "                        if new_cpu_usage > 70 or new_memory_usage > 70:\n",
    "                            new_system_health = \"Critical\"\n",
    "                        else:\n",
    "                            new_system_health = \"Good\"\n",
    "                        file.write(f\"System Health: {new_system_health}\\n\")\n",
    "                    elif \"System Downtime:\" in line:\n",
    "                        new_cpu_temp = float(new_cpu_temp)\n",
    "                        if new_cpu_temp > 70:\n",
    "                            new_downtime = \"yes\"\n",
    "                        else:\n",
    "                            new_downtime = \"no\"\n",
    "                        file.write(f\"System Downtime: {new_downtime}\\n\")\n",
    "                    else:\n",
    "                        file.write(line)\n",
    "                file.truncate()\n",
    "            print(f\"Server details for {self.system_name} updated successfully.\\n\")\n",
    "        except FileNotFoundError:\n",
    "            print(f\"File '{self.system_name}_details.txt' not found.\\n\")\n",
    "\n",
    "    def delete_server_details(self):\n",
    "        try:\n",
    "            os.remove(f\"{self.system_name}_details.txt\")\n",
    "            print(f\"Server details file for {self.system_name} deleted successfully.\\n\")\n",
    "        except FileNotFoundError:\n",
    "            print(f\"File '{self.system_name}_details.txt' not found.\\n\")\n",
    "\n",
    "def display_health_of_all_servers():\n",
    "    # List all files in the current directory\n",
    "    files = [file for file in os.listdir() if file.endswith(\"_details.txt\")]\n",
    "    for file in files:\n",
    "        try:\n",
    "            with open(file, \"r\") as f:\n",
    "                server_name = file.split(\"_\")[0]\n",
    "                server_details = f.readlines()\n",
    "                for line in server_details:\n",
    "                    if \"System Health:\" in line:\n",
    "                        print(f\"{server_name}: {line.strip()}\")\n",
    "        except FileNotFoundError:\n",
    "            print(f\"File '{file}' not found.\")\n",
    "\n",
    "def display_downtime_of_all_systems():\n",
    "    # List all files in the current directory\n",
    "    files = [file for file in os.listdir() if file.endswith(\"_details.txt\")]\n",
    "    for file in files:\n",
    "        try:\n",
    "            with open(file, \"r\") as f:\n",
    "                server_name = file.split(\"_\")[0]\n",
    "                server_details = f.readlines()\n",
    "                for line in server_details:\n",
    "                    if \"System Downtime:\" in line:\n",
    "                        print(f\"{server_name}: {line.strip()}\")\n",
    "        except FileNotFoundError:\n",
    "            print(f\"File '{file}' not found.\")\n",
    "\n",
    "def main():\n",
    "    while True:\n",
    "        print(\"\\n1. Create Server Details\")\n",
    "        print(\"2. Display Server Details\")\n",
    "        print(\"3. Update Server Details\")\n",
    "        print(\"4. Delete Server Details\")\n",
    "        print(\"5. Display Health of All Servers\")\n",
    "        print(\"6. Display Downtime of All Systems\")\n",
    "        print(\"7. Exit\\n\")\n",
    "\n",
    "        choice = input(\"Enter your choice: \")\n",
    "\n",
    "        if choice == '1':\n",
    "            system_name = input(\"Enter system name: \")\n",
    "            server = ServerDetails(system_name)\n",
    "            server.write_server_details()\n",
    "        elif choice == '2':\n",
    "            system_name = input(\"Enter system name: \")\n",
    "            server = ServerDetails(system_name)\n",
    "            server.read_server_details()\n",
    "        elif choice == '3':\n",
    "            system_name = input(\"Enter system name: \")\n",
    "            server = ServerDetails(system_name)\n",
    "            server.update_server_details()\n",
    "        elif choice == '4':\n",
    "            system_name = input(\"Enter system name: \")\n",
    "            server = ServerDetails(system_name)\n",
    "            server.delete_server_details()\n",
    "        elif choice == '5':\n",
    "            display_health_of_all_servers()\n",
    "        elif choice == '6':\n",
    "            display_downtime_of_all_systems()\n",
    "        elif choice == '7':\n",
    "            print(\"\\nExiting...\")\n",
    "            break\n",
    "        else:\n",
    "            print(\"\\nInvalid choice. Please enter a valid option.\")\n",
    "\n",
    "if __name__ == \"__main__\":\n",
    "    main()"
   ]
  },
  {
   "cell_type": "code",
   "execution_count": null,
   "id": "3c9ddb28-3250-4d00-b3cd-d1020c0e2464",
   "metadata": {},
   "outputs": [],
   "source": []
  }
 ],
 "metadata": {
  "kernelspec": {
   "display_name": "Python 3 (ipykernel)",
   "language": "python",
   "name": "python3"
  },
  "language_info": {
   "codemirror_mode": {
    "name": "ipython",
    "version": 3
   },
   "file_extension": ".py",
   "mimetype": "text/x-python",
   "name": "python",
   "nbconvert_exporter": "python",
   "pygments_lexer": "ipython3",
   "version": "3.12.3"
  }
 },
 "nbformat": 4,
 "nbformat_minor": 5
}
