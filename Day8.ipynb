{
 "cells": [
  {
   "cell_type": "code",
   "execution_count": 1,
   "id": "0749b4c6-3632-4290-af09-509b987031ec",
   "metadata": {},
   "outputs": [
    {
     "name": "stdout",
     "output_type": "stream",
     "text": [
      "selection sort: [2, 4, 1, 7, 3, 9, 6, 5]\n"
     ]
    }
   ],
   "source": [
    "#selection sort\n",
    "\n",
    "arr=[2,4,1,7,3,9,6,5]\n",
    " \n",
    "for i in range(0,len(arr)):\n",
    "    min_idx=i\n",
    "    for j in range(i+1,len(arr)):\n",
    "        if arr[min_idx]>arr[i]:\n",
    "            min_idx=j\n",
    "    temp=arr[i]\n",
    "    arr[i]=arr[min_idx]\n",
    "    arr[min_idx]=temp\n",
    "\n",
    "print(\"selection sort:\",arr)"
   ]
  },
  {
   "cell_type": "code",
   "execution_count": 3,
   "id": "e54f48b5-b1a0-451a-aa31-c8e55fee888e",
   "metadata": {},
   "outputs": [
    {
     "name": "stdout",
     "output_type": "stream",
     "text": [
      "sorted elements:\n",
      "\n",
      "1  2  3  4  5  6  7  9  "
     ]
    }
   ],
   "source": [
    "#insertion sort\n",
    "\n",
    "arr=[2,4,1,7,3,9,6,5]\n",
    "\n",
    "n=len(arr)\n",
    "for i in range(0,n):\n",
    "    temp=arr[i]\n",
    "    j = i - 1\n",
    "    while j >= 0 and temp < arr[j]:\n",
    "        arr[j + 1] = arr[j]\n",
    "        j -= 1\n",
    "    arr[j + 1] = temp\n",
    "print(\"sorted elements:\\n\")\n",
    "for i in arr:\n",
    "    print(i,end=\"  \") "
   ]
  },
  {
   "cell_type": "code",
   "execution_count": 1,
   "id": "7c645d96-5b89-4ebd-9bf1-b56f5d59bbfb",
   "metadata": {},
   "outputs": [
    {
     "name": "stdin",
     "output_type": "stream",
     "text": [
      " 3\n"
     ]
    },
    {
     "name": "stdout",
     "output_type": "stream",
     "text": [
      "valid string\n"
     ]
    }
   ],
   "source": [
    "s=input()\n",
    "x=y=z=0\n",
    "for c in s:\n",
    "    match (c):\n",
    "        case '(':x+=1\n",
    "        case ')':x-=1\n",
    "        case '{':y+=1\n",
    "        case '}':y-=1\n",
    "        case '[':z+=1\n",
    "        case ']':z-=1\n",
    "        case _:continue\n",
    "if x+y+z==0:\n",
    "    print(\"valid string\")\n",
    "else:\n",
    "    print(\"invalid string\")"
   ]
  },
  {
   "cell_type": "code",
   "execution_count": 5,
   "id": "cc9a481d-8aa0-460f-a928-03c264516fe2",
   "metadata": {},
   "outputs": [
    {
     "name": "stdout",
     "output_type": "stream",
     "text": [
      "item added to the stack 4\n",
      "item added to the stack 1\n",
      "item added to the stack 2\n",
      "item added to the stack 3\n",
      "[4, 1, 2, 3]\n",
      "item deleted from the list 3\n",
      "[4, 1, 2]\n"
     ]
    }
   ],
   "source": [
    "#stack operations\n",
    "class stack:\n",
    "    def __init__(self):\n",
    "        self.item=[]\n",
    "    def push(self,x):\n",
    "        self.item.append(x)\n",
    "        print(\"item added to the stack\",x)\n",
    "    def pop(self):\n",
    "        items=self.item.pop()\n",
    "        print(\"item deleted from the list\",items)\n",
    "s=stack()\n",
    "s.push(4)\n",
    "s.push(1)\n",
    "s.push(2)\n",
    "s.push(3)\n",
    "print(s.item)\n",
    "s.pop()\n",
    "print(s.item)"
   ]
  },
  {
   "cell_type": "code",
   "execution_count": null,
   "id": "9cbcc6f9-38f1-44c0-b7af-eddc5ee5e8be",
   "metadata": {},
   "outputs": [],
   "source": []
  }
 ],
 "metadata": {
  "kernelspec": {
   "display_name": "Python 3 (ipykernel)",
   "language": "python",
   "name": "python3"
  },
  "language_info": {
   "codemirror_mode": {
    "name": "ipython",
    "version": 3
   },
   "file_extension": ".py",
   "mimetype": "text/x-python",
   "name": "python",
   "nbconvert_exporter": "python",
   "pygments_lexer": "ipython3",
   "version": "3.12.3"
  }
 },
 "nbformat": 4,
 "nbformat_minor": 5
}
