{
 "cells": [
  {
   "cell_type": "code",
   "execution_count": null,
   "id": "d46a5cbd-65d9-44fe-be9d-fce16ebeeaa7",
   "metadata": {},
   "outputs": [],
   "source": [
    "# Time complexiety\n",
    "\n",
    "1.constant-> o(1)\n",
    "2.linear-> o(n)\n",
    "3.quadratic-> o(n^2)\n",
    "4.exponential-> o(n^m)\n",
    "5.factorial-> o(n*m)\n",
    "\n",
    "4 & 5 are worst time complexity\n",
    "\n",
    "# Space Complexiety\n",
    "\n"
   ]
  },
  {
   "cell_type": "code",
   "execution_count": 51,
   "id": "32fc1801-109b-4faf-b890-443012a5f55a",
   "metadata": {},
   "outputs": [
    {
     "name": "stdout",
     "output_type": "stream",
     "text": [
      "Sum of 3 consecutive: 23\n"
     ]
    }
   ],
   "source": [
    "l=[2,4,6,1,3,7,4,6,9,8,3,6,4,1,3,9,6,4,5,8,3,7,3,6,8]\n",
    "sum=0\n",
    "m=0\n",
    "\n",
    "for i in range(0,len(l)-2):\n",
    "    sum=l[i]+l[i+1]+l[i+2]\n",
    "    m=max(m,sum)\n",
    "\n",
    "print(\"Sum of 3 consecutive:\",m)"
   ]
  },
  {
   "cell_type": "code",
   "execution_count": 1,
   "id": "c4e4c4b2-df6f-4ffa-baf9-e500819ebf0f",
   "metadata": {},
   "outputs": [
    {
     "name": "stdin",
     "output_type": "stream",
     "text": [
      "enter the consecutive value : 3\n"
     ]
    },
    {
     "name": "stdout",
     "output_type": "stream",
     "text": [
      "20\n"
     ]
    }
   ],
   "source": [
    "#Taking input from user[method 2]\n",
    "L=[2,4,6,1,3,7,4,6,9,3,8,3,6,4,1,3,9,6]\n",
    "i=int(input(\"enter the consecutive value :\"))\n",
    "max=0\n",
    "for x in range(0,len(L)-i):\n",
    "    sum=0\n",
    "    for y in range(0,i):\n",
    "        sum=sum+L[x+y]\n",
    "    if(max<sum):\n",
    "      max=sum  \n",
    "\n",
    "print(max)"
   ]
  },
  {
   "cell_type": "code",
   "execution_count": 2,
   "id": "733ca31c-754d-4dee-92b5-0b5f210a4017",
   "metadata": {},
   "outputs": [
    {
     "name": "stdin",
     "output_type": "stream",
     "text": [
      "enter the consecutive value : 4\n"
     ]
    },
    {
     "name": "stdout",
     "output_type": "stream",
     "text": [
      "26\n"
     ]
    }
   ],
   "source": [
    "L=[2,4,6,1,3,7,4,6,9,3,8,3,6,4,1,3,9,6]\n",
    "i=int(input(\"enter the consecutive value :\"))\n",
    "max=0\n",
    "for x in range(0,len(L)-i):\n",
    "    sum=0\n",
    "    for y in range(0,i):\n",
    "        sum=sum+L[x+y]\n",
    "    if(max<sum):\n",
    "      max=sum  \n",
    "\n",
    "print(max)"
   ]
  },
  {
   "cell_type": "code",
   "execution_count": 6,
   "id": "1cb8ef97-0485-4e32-8187-09652bca5b83",
   "metadata": {},
   "outputs": [
    {
     "name": "stdout",
     "output_type": "stream",
     "text": [
      "[2, 2, 3, 4, 7, 8, 9, 9, 56]\n",
      "[56, 9, 9, 8, 7, 4, 3, 2, 2]\n",
      " the bubble Sorted array:\n",
      " [1, 2, 3, 4, 5, 6, 7, 8, 9]\n"
     ]
    }
   ],
   "source": [
    "L=[2,9,3,4,56,7,8,9,2]\n",
    "L.sort()\n",
    "print(L)\n",
    "\n",
    "\n",
    "L.reverse()\n",
    "print(L)\n",
    "\n",
    "\n",
    "l=[3,5,2,6,7,4,8,1,9]\n",
    "arr=len(l)\n",
    "for i in range(arr):\n",
    "    for j in range (0,arr-i-1):\n",
    "        if l[j] > l[j+1]:\n",
    "                l[j], l[j+1] = l[j+1], l[j]\n",
    "\n",
    "\n",
    "print(\" the bubble Sorted array:\\n\",l)"
   ]
  },
  {
   "cell_type": "code",
   "execution_count": 4,
   "id": "ccc4082e-7794-488b-ba1b-ceae29867424",
   "metadata": {},
   "outputs": [
    {
     "name": "stdout",
     "output_type": "stream",
     "text": [
      "sorted elements:\n",
      "\n",
      "1  2  3  4  5  6  7  9  "
     ]
    }
   ],
   "source": [
    "#insertion sort\n",
    "\n",
    "arr=[2,4,1,7,3,9,6,5]\n",
    "\n",
    "n=len(arr)\n",
    "for i in range(0,n):\n",
    "    temp=arr[i]\n",
    "    j = i - 1\n",
    "    while j >= 0 and temp < arr[j]:\n",
    "        arr[j + 1] = arr[j]\n",
    "        j -= 1\n",
    "    arr[j + 1] = temp\n",
    "print(\"sorted elements:\\n\")\n",
    "for i in arr:\n",
    "    print(i,end=\"  \")"
   ]
  },
  {
   "cell_type": "code",
   "execution_count": 6,
   "id": "9df93e42-e9a2-4869-8b15-97ad0a30ec82",
   "metadata": {},
   "outputs": [
    {
     "name": "stdout",
     "output_type": "stream",
     "text": [
      "selection sort: [2, 4, 1, 7, 3, 9, 6, 5]\n"
     ]
    }
   ],
   "source": [
    "#selection sort\n",
    "\n",
    "arr=[2,4,1,7,3,9,6,5]\n",
    " \n",
    "for i in range(0,len(arr)):\n",
    "    min_idx=i\n",
    "    for j in range(i+1,len(arr)):\n",
    "        if arr[min_idx]>arr[i]:\n",
    "            min_idx=j\n",
    "    temp=arr[i]\n",
    "    arr[i]=arr[min_idx]\n",
    "    arr[min_idx]=temp\n",
    "\n",
    "print(\"selection sort:\",arr)"
   ]
  },
  {
   "cell_type": "code",
   "execution_count": null,
   "id": "a9c45530-cb69-4440-9c39-aeac60a65518",
   "metadata": {},
   "outputs": [],
   "source": []
  }
 ],
 "metadata": {
  "kernelspec": {
   "display_name": "Python 3 (ipykernel)",
   "language": "python",
   "name": "python3"
  },
  "language_info": {
   "codemirror_mode": {
    "name": "ipython",
    "version": 3
   },
   "file_extension": ".py",
   "mimetype": "text/x-python",
   "name": "python",
   "nbconvert_exporter": "python",
   "pygments_lexer": "ipython3",
   "version": "3.12.3"
  }
 },
 "nbformat": 4,
 "nbformat_minor": 5
}
