{
 "cells": [
  {
   "cell_type": "code",
   "execution_count": 6,
   "id": "8cf5565a-89dd-441b-adf1-bac0e8a695a3",
   "metadata": {},
   "outputs": [
    {
     "name": "stdout",
     "output_type": "stream",
     "text": [
      "5\n"
     ]
    }
   ],
   "source": [
    "#exception handling in files\n",
    "\n",
    "import os\n",
    "\n",
    "try:\n",
    "    with open(\"file3.txt\",'w')as F:\n",
    "        a=F.write(\"Hello\")\n",
    "        print(a)\n",
    "\n",
    "except :\n",
    "    print(\"file doesnt exixsts\")"
   ]
  },
  {
   "cell_type": "markdown",
   "id": "1d82686c-7225-4aa1-a6cd-76c0372f0b3b",
   "metadata": {},
   "source": [
    "#OOPS concept\n",
    "#Pillers of OOPs\n",
    "\n",
    "1.Inhertence-> Inherting a class from already existing class\n",
    "2.Abstraction-> Hiding variables or methods so that objects doesn't access\n",
    "3.Encapsulation-> Wraping up pf data\n",
    "4.Polymorphism-> Same function, Same class with diffrent set of obj \n",
    "\n",
    "*Class is used to create a object, it is a blueprint for an object \n",
    "*Class that defins the properties of the object(Class does'nt contain objects)\n",
    "*For example: we can take laptop as class"
   ]
  },
  {
   "cell_type": "code",
   "execution_count": 5,
   "id": "0f9543ff-7014-468a-abfb-630de8059dcc",
   "metadata": {},
   "outputs": [
    {
     "name": "stdin",
     "output_type": "stream",
     "text": [
      "Enter the configuration: 3\n"
     ]
    },
    {
     "name": "stdout",
     "output_type": "stream",
     "text": [
      "3\n"
     ]
    },
    {
     "name": "stdin",
     "output_type": "stream",
     "text": [
      "Enter the configuration: 4\n"
     ]
    },
    {
     "name": "stdout",
     "output_type": "stream",
     "text": [
      "4\n"
     ]
    },
    {
     "name": "stdin",
     "output_type": "stream",
     "text": [
      "Enter the configuration: 5\n"
     ]
    },
    {
     "name": "stdout",
     "output_type": "stream",
     "text": [
      "5\n"
     ]
    }
   ],
   "source": [
    "#create a laptop class, with variable as processor , Ram and Storage.\n",
    "#create function to print the configuration of the laptops.\n",
    "#create 3 object of laptop with diffrent brand and display its configuration\n",
    "\n",
    "class laptop:\n",
    "    processor:\"i_seven\"\n",
    "    ram:\"four_gb\"\n",
    "    storage:\"one_tb\"\n",
    "\n",
    "    def config(self):\n",
    "        n=input(\"Enter the configuration:\")\n",
    "        print(n)\n",
    "\n",
    "dell=laptop()\n",
    "acer=laptop()\n",
    "hp=laptop()\n",
    "\n",
    "dell.config()\n",
    "acer.config()\n",
    "hp.config()\n"
   ]
  },
  {
   "cell_type": "code",
   "execution_count": 13,
   "id": "fc3a4188-28cd-4803-8fa7-37df8715a7e5",
   "metadata": {},
   "outputs": [
    {
     "name": "stdout",
     "output_type": "stream",
     "text": [
      "Configuration of laptop:\n",
      "Processor: i5\n",
      "Ram: 8\n",
      "Storage: 543\n"
     ]
    }
   ],
   "source": [
    "#Method2\n",
    "\n",
    "class laptop:\n",
    "    def __init__(self,p,r,s):\n",
    "        self.processor=p\n",
    "        self.ram=r\n",
    "        self.storage=s\n",
    "\n",
    "    def config(self):\n",
    "        print(\"Configuration of laptop:\")\n",
    "        print(\"Processor:\",self.processor)\n",
    "        print(\"Ram:\",self.ram)\n",
    "        print(\"Storage:\",self.storage)\n",
    "\n",
    "if __name__==\"__main__\":\n",
    "    hp=laptop(\"i5\",8,543)\n",
    "    hp.config()"
   ]
  },
  {
   "cell_type": "code",
   "execution_count": 24,
   "id": "bda52694-a7a4-458c-9bd5-36e58e93b68c",
   "metadata": {},
   "outputs": [
    {
     "name": "stdout",
     "output_type": "stream",
     "text": [
      "average =  79.0\n"
     ]
    }
   ],
   "source": [
    "#Create a class student which can hold the marks in 5 subjects and also create a function to print the marks and calculate the avg of 5 subjects\n",
    "\n",
    "class student:\n",
    "    def __init__(self,s1,s2,s3,s4,s5):\n",
    "        self.m1=s1\n",
    "        self.m2=s2\n",
    "        self.m3=s3\n",
    "        self.m4=s4\n",
    "        self.m5=s5\n",
    "\n",
    "    def avg(self):\n",
    "        total=self.m1+self.m2+self.m3+self.m4+self.m5\n",
    "        avg=total/5\n",
    "        print(\"average = \",avg)\n",
    "\n",
    "#to define main:\n",
    "if __name__==\"__main__\":\n",
    "    student1=student(99,89,79,69,59)\n",
    "\n",
    "student1.avg()"
   ]
  },
  {
   "cell_type": "code",
   "execution_count": 26,
   "id": "69ba23b6-2e43-466d-88d4-8caf40e1b67c",
   "metadata": {},
   "outputs": [
    {
     "name": "stdin",
     "output_type": "stream",
     "text": [
      "Enter the marks: 99\n",
      "Enter the marks: 89\n",
      "Enter the marks: 79\n",
      "Enter the marks: 69\n",
      "Enter the marks: 59\n"
     ]
    },
    {
     "name": "stdout",
     "output_type": "stream",
     "text": [
      "average =  79.0\n"
     ]
    }
   ],
   "source": [
    "class student:\n",
    "    def __init__(self,s1,s2,s3,s4,s5):\n",
    "        self.m1=s1\n",
    "        self.m2=s2\n",
    "        self.m3=s3\n",
    "        self.m4=s4\n",
    "        self.m5=s5\n",
    "\n",
    "    def avg(self):\n",
    "        total=self.m1+self.m2+self.m3+self.m4+self.m5\n",
    "        avg=total/5\n",
    "        print(\"average = \",avg)\n",
    "\n",
    "#to define main:\n",
    "if __name__==\"__main__\":\n",
    "    sub1=int(input(\"Enter the marks:\"))\n",
    "    sub2=int(input(\"Enter the marks:\"))\n",
    "    sub3=int(input(\"Enter the marks:\"))\n",
    "    sub4=int(input(\"Enter the marks:\"))\n",
    "    sub5=int(input(\"Enter the marks:\"))\n",
    "    student1=student(sub1,sub2,sub3,sub4,sub5)\n",
    "\n",
    "student1.avg()"
   ]
  },
  {
   "cell_type": "code",
   "execution_count": 29,
   "id": "0d5ca6d7-4bd9-4432-9e9e-067394e7e8a9",
   "metadata": {},
   "outputs": [
    {
     "name": "stdout",
     "output_type": "stream",
     "text": [
      "This is fun1\n",
      "This is fun2\n",
      "This is fun3\n",
      "This is fun4\n"
     ]
    }
   ],
   "source": [
    "# inheritance\n",
    "class a:\n",
    "    def fun1(self):\n",
    "        print(\"This is fun1\")\n",
    "    def fun2(self):\n",
    "        print(\"This is fun2\")\n",
    "\n",
    "class b:\n",
    "    def fun3(self):\n",
    "        print(\"This is fun3\")\n",
    "    def fun4(self):\n",
    "        print(\"This is fun4\")\n",
    "\n",
    "if __name__==\"__main__\" :\n",
    "    ob1=a()\n",
    "    ob2=b()\n",
    "\n",
    "    ob1.fun1()\n",
    "    ob1.fun2()\n",
    "    ob2.fun3()\n",
    "    ob2.fun4()\n",
    "    "
   ]
  },
  {
   "cell_type": "code",
   "execution_count": 33,
   "id": "18014e9e-5df2-4279-9caf-4fa48c0aed11",
   "metadata": {},
   "outputs": [
    {
     "name": "stdout",
     "output_type": "stream",
     "text": [
      "Constructor of class b\n",
      "Constructor of class c\n"
     ]
    }
   ],
   "source": [
    "#how constructor are called on inhertance\n",
    "\n",
    "class a:\n",
    "    def __init__(self):\n",
    "        print(\"Constructor of class a\")\n",
    "\n",
    "class b:\n",
    "    def __init__(self):\n",
    "        print(\"Constructor of class b\")\n",
    "\n",
    "class c:\n",
    "    def __init__(self):\n",
    "        print(\"Constructor of class c\")\n",
    "\n",
    "class d:\n",
    "    def __init__(self):\n",
    "        print(\"Constructor of class d\")\n",
    "\n",
    "if __name__ == \"__main__\":\n",
    "    ob1=b()\n",
    "    ob2=c()"
   ]
  },
  {
   "cell_type": "code",
   "execution_count": 50,
   "id": "0f01380c-aea7-4a6f-a22b-173672e75b0b",
   "metadata": {},
   "outputs": [
    {
     "name": "stdout",
     "output_type": "stream",
     "text": [
      "professional laptop having: 8 512 7hrs i5\n",
      "gaming laptop having: 8 512 3d i5\n"
     ]
    }
   ],
   "source": [
    "class laptop:\n",
    "    def __init__(self,p,r,s):             #creating variables\n",
    "        self.processor=p\n",
    "        self.RAM=r\n",
    "        self.storage=s\n",
    "\n",
    "class plaptop(laptop):\n",
    "    def __init__(self,b,p,r,s):\n",
    "        self.Battery=b\n",
    "        super().__init__(p,r,s)\n",
    "        #self.super(p,r,s)\n",
    "\n",
    "class glaptop(laptop):\n",
    "    def __init__(self,g,p,r,s):\n",
    "        self.graphic_card=g\n",
    "        super().__init__(p,r,s)\n",
    "        #self.super(p,r,s)\n",
    "\n",
    "pro=plaptop(\"i5\",8,512,\"7hrs\")\n",
    "game=glaptop(\"i5\",8,512,\"3d\")\n",
    "\n",
    "print(\"professional laptop having:\",pro.processor,pro.RAM,pro.storage,pro.Battery)\n",
    "print(\"gaming laptop having:\",game.processor,game.RAM,game.storage,game.graphic_card)"
   ]
  },
  {
   "cell_type": "markdown",
   "id": "e7e95b3c-40dc-4d6d-a2db-3fe54406f079",
   "metadata": {},
   "source": [
    "Q: Write a Program to demonstrate the working of a railway ticket booking. \n",
    "Create required classes like \n",
    "ticket class | general ticket | sleeper ticket | AC ticket | first class ticket.\n",
    "\n",
    "show the uses of inheritance in this and create a proper ticket booking model for Indian railway.\n",
    "\n",
    "After booking the ticket you have to Show the Final Ticket price to the customer.\n",
    "\n",
    "consider only 3 Source and destination a\n",
    " A 500kms | B 600kms | C 400kms\n",
    "\n",
    "Booking charges: 50 | Distance Charges: 2/km | Sleeper Charges: 2/km | AC charges: 4/km | first class charges: 5/km"
   ]
  },
  {
   "cell_type": "code",
   "execution_count": 3,
   "id": "f542ca17-962b-400d-af5d-45c81a996a0c",
   "metadata": {},
   "outputs": [
    {
     "name": "stdout",
     "output_type": "stream",
     "text": [
      "Ticket booked Fare Price will be:  6550\n"
     ]
    }
   ],
   "source": [
    "class ticket:\n",
    "   \n",
    "    def __init__(self,D):\n",
    "        self.distance = int(D)\n",
    "        self.farePrice = None\n",
    "\n",
    "class gen(ticket):\n",
    "    def __init__(self,D):\n",
    "        super().__init__(D)\n",
    "    def print_ticket(self):\n",
    "        self.farePrice=50+(self.distance*2)\n",
    "        return self.farePrice\n",
    "        \n",
    "\n",
    "\n",
    "class slp(gen):\n",
    "    def __init__(self,D):\n",
    "        super().__init__(D)\n",
    "\n",
    "    def print_ticket(self):\n",
    "        self.farePrice=super().print_ticket()+(2*self.distance)\n",
    "        return self.farePrice\n",
    "\n",
    "class AC(slp):\n",
    "    def __init__(self,D):\n",
    "        super().__init__(D)\n",
    "    def print_ticket(self):\n",
    "        self.farePrice=super().print_ticket()+(4*self.distance)\n",
    "        return self.farePrice\n",
    "\n",
    "class FC(AC):\n",
    "    def __init__(self,D):\n",
    "        super().__init__(D)\n",
    "    def print_ticket(self):\n",
    "        self.farePrice=super().print_ticket()+(5*self.distance)\n",
    "        return self.farePrice\n",
    "\n",
    "\n",
    "jur = FC(500)\n",
    "print(\"Ticket booked Fare Price will be: \",jur.print_ticket())"
   ]
  },
  {
   "cell_type": "code",
   "execution_count": null,
   "id": "3a5236a3-6ef5-4620-84b8-60938a48a2d2",
   "metadata": {},
   "outputs": [],
   "source": []
  }
 ],
 "metadata": {
  "kernelspec": {
   "display_name": "Python 3 (ipykernel)",
   "language": "python",
   "name": "python3"
  },
  "language_info": {
   "codemirror_mode": {
    "name": "ipython",
    "version": 3
   },
   "file_extension": ".py",
   "mimetype": "text/x-python",
   "name": "python",
   "nbconvert_exporter": "python",
   "pygments_lexer": "ipython3",
   "version": "3.12.3"
  }
 },
 "nbformat": 4,
 "nbformat_minor": 5
}
