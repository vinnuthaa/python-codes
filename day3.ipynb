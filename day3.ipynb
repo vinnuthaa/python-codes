{
 "cells": [
  {
   "cell_type": "code",
   "execution_count": 1,
   "id": "1ddbd1cf-81d8-4339-983e-1a735c756466",
   "metadata": {},
   "outputs": [
    {
     "name": "stdout",
     "output_type": "stream",
     "text": [
      "[1, 2, 3, 4, 5, 6]\n"
     ]
    }
   ],
   "source": [
    "#array in python is called as list\n",
    "\n",
    "a=[1,2,3,4,5,6]\n",
    "print(a)"
   ]
  },
  {
   "cell_type": "code",
   "execution_count": 8,
   "id": "b06b163c-4a96-4b55-855e-38b1798ff447",
   "metadata": {},
   "outputs": [
    {
     "name": "stdout",
     "output_type": "stream",
     "text": [
      "[1, 2, 3, 4, 5, 6]\n",
      "3\n"
     ]
    }
   ],
   "source": [
    "#acessing array elements in python\n",
    "\n",
    "a=[1,2,3,4,5,6]\n",
    "print(a)\n",
    "print(a[2])"
   ]
  },
  {
   "cell_type": "code",
   "execution_count": 9,
   "id": "3850c0de-ffc5-4a4d-a9e5-c00ecebf07d8",
   "metadata": {},
   "outputs": [
    {
     "name": "stdout",
     "output_type": "stream",
     "text": [
      "[1, 2, 3, 4, 5, 'vinu']\n",
      "vinu\n",
      "<class 'int'>\n",
      "<class 'str'>\n"
     ]
    }
   ],
   "source": [
    "#type of elements in list\n",
    "\n",
    "a=[1,2,3,4,5,'vinu']\n",
    "print(a)\n",
    "print(a[5])\n",
    "print(type(a[2]))\n",
    "print(type(a[5]))"
   ]
  },
  {
   "cell_type": "code",
   "execution_count": 10,
   "id": "2a14e281-9564-4cbe-9459-6c1fc9f70003",
   "metadata": {},
   "outputs": [
    {
     "name": "stdout",
     "output_type": "stream",
     "text": [
      "1\n",
      "2\n",
      "3\n",
      "4\n"
     ]
    }
   ],
   "source": [
    "#creating list using loop\n",
    "\n",
    "x=[1,2,3,4,5]\n",
    "for a in range(0,4):\n",
    "    print(x[a])"
   ]
  },
  {
   "cell_type": "code",
   "execution_count": 15,
   "id": "54a4dec5-8e5b-4064-a2de-615487c70876",
   "metadata": {},
   "outputs": [
    {
     "name": "stdout",
     "output_type": "stream",
     "text": [
      "4   6\n",
      "4   7\n",
      "4   8\n",
      "4   9\n"
     ]
    }
   ],
   "source": [
    "x=[1,2,3,4,5]\n",
    "for a in range(0,4):\n",
    "    y=[6,7,8,9,0]\n",
    "for b in range(0,4):\n",
    "    print(x[a] ,\" \" ,y[b])"
   ]
  },
  {
   "cell_type": "markdown",
   "id": "cd8895c0-5984-4b2a-ab96-4078250720d9",
   "metadata": {},
   "source": [
    "#types of functions\n",
    "def append : append object \n",
    "def extend : expand the list by appending\n",
    "def pop : remove and return item in index(raises error if list is empty or out of range)\n",
    "def index : return first index of value\n",
    "def count : returns number of occurrences of value(counts the duplicate)\n",
    "def insert : insert object before index\n",
    "def remove : remove object \n",
    "def sort : sort the list in ascending order(if we want in decencding order shld use reverse)\n",
    "len : to find the length \n",
    "copy : to copy the variable\n",
    "pop : to remove the last element"
   ]
  },
  {
   "cell_type": "code",
   "execution_count": 34,
   "id": "7efc390c-ba2c-4c8e-9a09-006718aa2694",
   "metadata": {},
   "outputs": [
    {
     "name": "stdout",
     "output_type": "stream",
     "text": [
      "[1, 2, 3, 4, 5]\n",
      "4\n",
      "[1, 2, 3, 5]\n",
      "[1, 2, 3, 5, 10, 8, 6]\n",
      "1\n",
      "[1, 2, 3, 3, 5, 10, 8, 6]\n",
      "[1, 2, 3, 5, 10, 8, 6]\n",
      "[1, 2, 3, 5, 6, 8, 10]\n",
      "7\n",
      "[1, 2, 3, 5, 6, 8, 10, 1, 2, 3, 4, 5]\n",
      "[1, 2, 3, 5, 6, 8, 10, 1, 2, 3, 4, 5, 1, 2, 3, 4, 5]\n"
     ]
    }
   ],
   "source": [
    "#functions\n",
    "\n",
    "a=[1,2,3,4,5]\n",
    "b=a.copy()\n",
    "print(b)\n",
    "\n",
    "c=b.pop(3)\n",
    "print(c)\n",
    "\n",
    "print(b)\n",
    "b.append(10)\n",
    "b.append(8)\n",
    "b.append(6)\n",
    "print(b)\n",
    "print(b.count(3))\n",
    "b.insert(2,3)\n",
    "print(b)\n",
    "b.remove(3)\n",
    "print(b)\n",
    "b.sort()\n",
    "print(b)\n",
    "print(len(b))\n",
    "\n",
    "b.extend(a)#permanent change\n",
    "print(b)\n",
    "print(b+a)#temprory change"
   ]
  },
  {
   "cell_type": "code",
   "execution_count": 36,
   "id": "27bffb2b-ef50-4a31-881b-da960e01f046",
   "metadata": {},
   "outputs": [
    {
     "name": "stdout",
     "output_type": "stream",
     "text": [
      "10\n",
      "9\n",
      "7\n",
      "65\n",
      "5\n",
      "3\n",
      "3\n",
      "2\n",
      "1\n",
      "22\n",
      "42\n",
      "54\n"
     ]
    }
   ],
   "source": [
    "#for each loop\n",
    "a=[10,9,7,65,5,3,3,2,1,22,42,54]\n",
    "for x in a:\n",
    "    print(x)"
   ]
  },
  {
   "cell_type": "code",
   "execution_count": 43,
   "id": "27d1ef08-c993-46a4-865e-bb3ab5e1bb9c",
   "metadata": {},
   "outputs": [
    {
     "name": "stdin",
     "output_type": "stream",
     "text": [
      "Enter the size of list: 3\n",
      " 3\n",
      " 3\n",
      " 3\n"
     ]
    },
    {
     "name": "stdout",
     "output_type": "stream",
     "text": [
      "['3', '3', '3']\n"
     ]
    }
   ],
   "source": [
    "#creating list taking input from user[method:1]\n",
    "\n",
    "n=int(input(\"Enter the size of list:\"))\n",
    "a=[]\n",
    "for x in range(0,n):\n",
    "    x=input()\n",
    "    a.append(x)\n",
    "print(a)"
   ]
  },
  {
   "cell_type": "code",
   "execution_count": 52,
   "id": "70112920-2c2e-4790-a8f7-23f1ccb0e539",
   "metadata": {},
   "outputs": [
    {
     "name": "stdin",
     "output_type": "stream",
     "text": [
      "Enter the elements if the list: v n n\n"
     ]
    },
    {
     "name": "stdout",
     "output_type": "stream",
     "text": [
      "['v', 'n', 'n']\n"
     ]
    },
    {
     "name": "stdin",
     "output_type": "stream",
     "text": [
      "Enter the elements if the list: 14 18 17\n"
     ]
    },
    {
     "name": "stdout",
     "output_type": "stream",
     "text": [
      "['14', '18', '17']\n",
      "['v', 'n', 'n'] \n",
      " ['14', '18', '17']\n"
     ]
    }
   ],
   "source": [
    "#creating list taking input from user[method:2]\n",
    "\n",
    "L=[item for item in (input(\"Enter the elements if the list:\").split())]\n",
    "print(L)\n",
    "\n",
    "M=[item for item in (input(\"Enter the elements if the list:\").split())]\n",
    "print(M)\n",
    "\n",
    "print(L,\"\\n\",M)"
   ]
  },
  {
   "cell_type": "code",
   "execution_count": 58,
   "id": "3dc80ed4-6a45-4d94-b206-84595ae3e89e",
   "metadata": {},
   "outputs": [
    {
     "name": "stdout",
     "output_type": "stream",
     "text": [
      "(1, 2, 3, 4, 5)\n",
      "[1, 2, 3, 4, 5]\n",
      "(1, 2, 3, 8, 5)\n"
     ]
    }
   ],
   "source": [
    "#tuples\n",
    "\n",
    "a=(1,2,3,4,5)\n",
    "print(a)\n",
    "\n",
    "#we can not insert or remove in tuples, to insert we need to convert it into list\n",
    "#to secure the data at any extent we use tuples\n",
    "\n",
    "b=list(a)\n",
    "print(b)\n",
    "b[3]=8\n",
    "a=tuple(b)\n",
    "print(a)"
   ]
  },
  {
   "cell_type": "code",
   "execution_count": 59,
   "id": "b95ecbe5-424f-413f-bc07-d92690210246",
   "metadata": {},
   "outputs": [
    {
     "name": "stdout",
     "output_type": "stream",
     "text": [
      "5\n",
      "4\n",
      "3\n",
      "2\n",
      "1\n"
     ]
    }
   ],
   "source": [
    "#reverse the list without using functions\n",
    "\n",
    "a=[1,2,3,4,5]\n",
    "for x in range(-1,-1*(len(a)+1),-1):\n",
    "    print(a[x])"
   ]
  },
  {
   "cell_type": "code",
   "execution_count": 61,
   "id": "55eb3b54-5b2a-4227-a1dd-6a67f464c4b6",
   "metadata": {},
   "outputs": [
    {
     "name": "stdout",
     "output_type": "stream",
     "text": [
      "5\n",
      "4\n",
      "3\n",
      "2\n",
      "1\n"
     ]
    }
   ],
   "source": [
    "#reverse the list without using functions[method 2]\n",
    "\n",
    "a=[1,2,3,4,5]\n",
    "for x in range(0,len(a)):\n",
    "    print(a[-1*(x+1)])"
   ]
  },
  {
   "cell_type": "markdown",
   "id": "6d2612d9-81ec-4a5d-8772-7e62203b4a2d",
   "metadata": {},
   "source": [
    "dictinory \n",
    "\n",
    "*it is a set of key and values\n",
    "*it is a set of value pairs\n",
    "\n",
    "key : gives the particular key for value\n",
    "value :  gives the particular values\n",
    "item : gives all the items "
   ]
  },
  {
   "cell_type": "code",
   "execution_count": 65,
   "id": "d9195f5e-6514-4fd7-a3b9-e46b5c4bf525",
   "metadata": {},
   "outputs": [
    {
     "name": "stdout",
     "output_type": "stream",
     "text": [
      "{1: 'hii', 2: 'hello', 3: 'hii'}\n",
      "hello\n",
      "dict_keys([1, 2, 3])\n",
      "dict_values(['hii', 'hello', 'hii'])\n",
      "dict_items([(1, 'hii'), (2, 'hello'), (3, 'hii')])\n"
     ]
    }
   ],
   "source": [
    "d={1:\"hii\",2:\"hello\",3:\"hii\"}\n",
    "print(d)\n",
    "print(d[2])\n",
    "print(d.keys())\n",
    "print(d.values())\n",
    "print(d.items())"
   ]
  },
  {
   "cell_type": "code",
   "execution_count": 77,
   "id": "1b13fc78-d041-441d-b3c3-e4a47ff3a387",
   "metadata": {},
   "outputs": [
    {
     "name": "stdin",
     "output_type": "stream",
     "text": [
      "Enter the key: 2\n",
      "Enter the value: nimra\n"
     ]
    },
    {
     "name": "stdout",
     "output_type": "stream",
     "text": [
      "key already exists\n"
     ]
    }
   ],
   "source": [
    "#write a program to take key and value as input from user and add it to the dictnory if key is not present ,otherwise print key already exist n print its corresponding value\n",
    "\n",
    "key=int(input(\"Enter the key:\"))\n",
    "value=input(\"Enter the value:\")\n",
    "d={1:\"vinnu\",2:\"nimra\",3:\"niki\"}\n",
    "\n",
    "if key in d:\n",
    "    print(\"key already exists\")\n",
    "\n",
    "else:\n",
    "    d[key]=value\n",
    "    print(d)"
   ]
  },
  {
   "cell_type": "markdown",
   "id": "8f866e46-20c5-47b8-bc6d-5c5400408b85",
   "metadata": {},
   "source": [
    "#exception handling\n",
    "\n",
    "1. try\n",
    "2. except\n",
    "3. else\n",
    "4. finally"
   ]
  },
  {
   "cell_type": "code",
   "execution_count": 1,
   "id": "3cf1396f-0cb5-4a49-9326-faa2a4b8af49",
   "metadata": {},
   "outputs": [
    {
     "name": "stdin",
     "output_type": "stream",
     "text": [
      " 5\n",
      " 5\n"
     ]
    },
    {
     "name": "stdout",
     "output_type": "stream",
     "text": [
      "division sucessful\n",
      "1.0\n",
      "error handled\n",
      "we have recieved the result as :  1.0\n"
     ]
    }
   ],
   "source": [
    "a=int(input())\n",
    "b=int(input())\n",
    "try:\n",
    "    c=a/b\n",
    "except:\n",
    "    print(\"we cant divide by zero\")\n",
    "    c=0\n",
    "else:\n",
    "    print(\"division sucessful\")\n",
    "    print(c)\n",
    "finally:\n",
    "    print(\"error handled\")\n",
    "print(\"we have recieved the result as : \",c)"
   ]
  },
  {
   "cell_type": "code",
   "execution_count": 4,
   "id": "a4d76dff-ded6-46aa-ab6e-4034551399d1",
   "metadata": {},
   "outputs": [
    {
     "name": "stdin",
     "output_type": "stream",
     "text": [
      "Enter the index value: 8\n"
     ]
    },
    {
     "name": "stdout",
     "output_type": "stream",
     "text": [
      "index is more thn the list limit\n",
      "exception handled\n"
     ]
    }
   ],
   "source": [
    "#write a program create a list of 10 elements ask the user to insert index and thn print it, if we dont have that index value thn exception shld be handled\n",
    "\n",
    "a=(1,2,3,4,5,6,7)\n",
    "\n",
    "index=int(input(\"Enter the index value:\"))\n",
    "\n",
    "try:\n",
    "    b=a[index]\n",
    "    print(\"index\",index,\"is available\",a[index])\n",
    "\n",
    "except:\n",
    "    print(\"index is more thn the list limit\")\n",
    "\n",
    "else:\n",
    "    print(\"found successfully\")\n",
    "\n",
    "finally:\n",
    "    print(\"exception handled\")"
   ]
  },
  {
   "cell_type": "code",
   "execution_count": 7,
   "id": "d5749fea-ee35-47a6-b167-f1d575326177",
   "metadata": {},
   "outputs": [
    {
     "name": "stdin",
     "output_type": "stream",
     "text": [
      "enter value of a 4\n",
      "enter value of b 2\n"
     ]
    },
    {
     "name": "stdout",
     "output_type": "stream",
     "text": [
      "No error\n",
      "execution done\n"
     ]
    }
   ],
   "source": [
    "a=input(\"enter value of a\")\n",
    "b=input(\"enter value of b\")\n",
    "\n",
    "try:\n",
    "    c=int(a)/int(b)\n",
    "\n",
    "except valueError:\n",
    "    print(\"value unable to convert \")\n",
    "\n",
    "except Zerodivisionerror:\n",
    "    print(\"can't be divided by zero\")\n",
    "\n",
    "except:\n",
    "    print(\"some unknown error found\")\n",
    "\n",
    "else:\n",
    "    print(\"No error\")\n",
    "\n",
    "finally:\n",
    "    print(\"execution done\")"
   ]
  },
  {
   "cell_type": "code",
   "execution_count": 40,
   "id": "24b3b744-b37f-4d84-8b6a-9ac27fc3a709",
   "metadata": {},
   "outputs": [
    {
     "name": "stdout",
     "output_type": "stream",
     "text": [
      "Ignoring non-numeric value: a\n",
      "Ignoring non-numeric value: b\n",
      "Sum of all elements in the list: 21.0\n"
     ]
    }
   ],
   "source": [
    "#Write a Python program to find the sum of all elements in a list and handle the case where the list contains non-numeric values.\n",
    "\n",
    "list = [1, 2, 3, 'a', 4, 5, 'b', 6]\n",
    "\n",
    "total = 0\n",
    "\n",
    "for item in list:\n",
    "    try:\n",
    "        total += float(item)\n",
    "    except ValueError:\n",
    "        \n",
    "        print(f\"Ignoring non-numeric value: {item}\")\n",
    "\n",
    "# Print the total sum\n",
    "print(\"Sum of all elements in the list:\", total)"
   ]
  },
  {
   "cell_type": "code",
   "execution_count": 49,
   "id": "63e89bfc-a1d7-4860-81d4-329a15d95082",
   "metadata": {},
   "outputs": [
    {
     "name": "stdout",
     "output_type": "stream",
     "text": [
      "Average grade: 85.5\n"
     ]
    }
   ],
   "source": [
    "#Create a Dictionary containing the names of students and their corresponding grades. Write a program to calculate the average grade and handle the case where the Dictionary is empty.\n",
    "\n",
    "grades = {\"vinu\": 85,\"nimra\": 90,\"niki\": 89,\"Mansi\": 78}\n",
    "if not grades:\n",
    "    print(\"The dictionary is empty.\")\n",
    "else:\n",
    "    total = 0\n",
    "    students = len(student_grades)\n",
    "\n",
    "    for grade in grades.values():\n",
    "        total += grade\n",
    "\n",
    "    average = total / students\n",
    "    print(\"Average grade:\", average)"
   ]
  },
  {
   "cell_type": "code",
   "execution_count": null,
   "id": "a94eca8d-7e4d-4016-9082-06312f13f4aa",
   "metadata": {},
   "outputs": [],
   "source": []
  }
 ],
 "metadata": {
  "kernelspec": {
   "display_name": "Python 3 (ipykernel)",
   "language": "python",
   "name": "python3"
  },
  "language_info": {
   "codemirror_mode": {
    "name": "ipython",
    "version": 3
   },
   "file_extension": ".py",
   "mimetype": "text/x-python",
   "name": "python",
   "nbconvert_exporter": "python",
   "pygments_lexer": "ipython3",
   "version": "3.12.3"
  }
 },
 "nbformat": 4,
 "nbformat_minor": 5
}
