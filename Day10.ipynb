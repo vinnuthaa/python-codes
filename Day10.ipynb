{
 "cells": [
  {
   "cell_type": "code",
   "execution_count": null,
   "id": "6458a2e0-2902-4b65-a9bf-dda596bbf76a",
   "metadata": {},
   "outputs": [],
   "source": [
    "#print table of 2\n",
    "for n in range (1,11):\n",
    "    print(n*2)"
   ]
  },
  {
   "cell_type": "code",
   "execution_count": 1,
   "id": "bd4a4378-6da6-44fa-81ae-86e6f089149d",
   "metadata": {},
   "outputs": [
    {
     "name": "stdin",
     "output_type": "stream",
     "text": [
      "Enter a number:  4\n"
     ]
    },
    {
     "name": "stdout",
     "output_type": "stream",
     "text": [
      "The factorial of 4 is 24\n"
     ]
    }
   ],
   "source": [
    "num = int(input(\"Enter a number: \"))    \n",
    "factorial = 1\n",
    "for i in range(1,num + 1):\n",
    "    factorial = factorial*i    \n",
    "print(\"The factorial of\",num,\"is\",factorial)\n"
   ]
  },
  {
   "cell_type": "code",
   "execution_count": null,
   "id": "b53477dd-9996-4a00-856f-7b34f9f5d9cd",
   "metadata": {},
   "outputs": [],
   "source": [
    "#Factorial of a number in recursion\n",
    "\n",
    "n = int(input(\"Enter a number: \")) \n",
    "factorial = fun(n) \n",
    "\n",
    "def fun(n):\n",
    "    if i==1:\n",
    "        return 1\n",
    "    else:\n",
    "        i*fun(i-1)\n",
    "\n",
    "print(\"The factorial of\",num,\"is\",i)"
   ]
  },
  {
   "cell_type": "code",
   "execution_count": 2,
   "id": "f78e56ef-7d3c-498b-8aaf-706766f792cd",
   "metadata": {},
   "outputs": [
    {
     "name": "stdin",
     "output_type": "stream",
     "text": [
      "enter the number of terms: 5\n"
     ]
    },
    {
     "name": "stdout",
     "output_type": "stream",
     "text": [
      "0 1 1 2 3 "
     ]
    }
   ],
   "source": [
    "#Fibanacci\n",
    "\n",
    "a=0\n",
    "b=1\n",
    "n = int(input(\"enter the number of terms:\"))\n",
    "print(a,b,end=\" \")\n",
    "\n",
    "for x in range(0,n-2):\n",
    "    c=a+b\n",
    "    print(c,end=\" \")\n",
    "    a=b\n",
    "    b=c"
   ]
  },
  {
   "cell_type": "code",
   "execution_count": 4,
   "id": "405c0e9d-3379-4dfb-b00f-8c3bca85ac21",
   "metadata": {},
   "outputs": [
    {
     "name": "stdout",
     "output_type": "stream",
     "text": [
      "[3, 5, 7, 2, 4, 8, 9, 7, 6]\n",
      "6\n",
      "[3, 5, 2, 4, 6, 8, 9, 7, 6]\n",
      "next\n",
      "[3, 5, 7, 2, 4, 8, 1, 9, 6]\n",
      "2\n",
      "[2, 5, 7, 2, 4, 8, 1, 9, 6]\n",
      "next\n",
      "[2, 5, 7, 2, 4, 8, 1, 9, 6]\n",
      "2\n",
      "[2, 2, 7, 2, 4, 8, 1, 9, 6]\n",
      "next\n",
      "[2, 2, 7, 2, 4, 8, 1, 9, 6]\n",
      "2\n",
      "[2, 2, 2, 2, 4, 8, 1, 9, 6]\n",
      "next\n",
      "[3, 5, 2, 4, 6, 8, 9, 7, 6]\n",
      "6\n",
      "[3, 5, 2, 4, 6, 6, 9, 7, 6]\n",
      "next\n",
      "[3, 5, 2, 4, 6, 6, 9, 7, 6]\n",
      "6\n",
      "[3, 5, 2, 4, 6, 6, 6, 7, 6]\n",
      "next\n",
      "[3, 5, 2, 4, 6, 6, 6, 7, 6]\n",
      "6\n",
      "[3, 5, 2, 4, 6, 6, 6, 6, 6]\n",
      "next\n",
      "[3, 5, 2, 4, 6, 6, 6, 6, 6]\n"
     ]
    }
   ],
   "source": [
    "def findpi(arr,low,high):\n",
    "    pe=arr[high]\n",
    "    j=low-1\n",
    "    for i in range(low,high):\n",
    "        if pe>arr[i]:\n",
    "            j+=1\n",
    "            arr[i],arr[j]=arr[j],arr[i]\n",
    "    arr[j+1],arr[j+1]=arr[j+1],arr[high]\n",
    "    return j+1\n",
    "\n",
    "def quicksort(arr,low,high):\n",
    "    if low<high:\n",
    "        print(arr)\n",
    "        pi= findpi(arr,low,high)\n",
    "        print(arr[pi])\n",
    "        print(arr)\n",
    "        print(\"next\")\n",
    "        quicksort(ar,low,pi-1)\n",
    "        quicksort(arr,pi+1,high)\n",
    "\n",
    "arr=[3,5,7,2,4,8,9,7,6]\n",
    "\n",
    "quicksort(arr,0,len(arr)-1)\n",
    "\n",
    "print(arr)"
   ]
  },
  {
   "cell_type": "code",
   "execution_count": 5,
   "id": "ccaa4627-d43c-4c17-af59-404d64253915",
   "metadata": {},
   "outputs": [
    {
     "name": "stdout",
     "output_type": "stream",
     "text": [
      "Node 1: <__main__.node object at 0x000002ADF497ECF0> 1\n",
      "Node 1: <__main__.node object at 0x000002ADF497FB60> 2\n",
      "Node 1: <__main__.node object at 0x000002ADF4AAE480> 3\n",
      "Node 1: <__main__.node object at 0x000002ADF4AACC80> 4\n"
     ]
    }
   ],
   "source": [
    "#Linked list\n",
    "\n",
    "class node:\n",
    "    def __init__(self,value):\n",
    "        self.data=value\n",
    "        self.next=None\n",
    "\n",
    "head = node(1)\n",
    "head.next=node(2)\n",
    "head.next.next=node(3)\n",
    "head.next.next.next=node(4)\n",
    "\n",
    "print(\"Node 1:\",head ,head.data)\n",
    "print(\"Node 1:\",head.next,head.next.data)\n",
    "print(\"Node 1:\",head.next.next,head.next.next.data)\n",
    "print(\"Node 1:\",head.next.next.next,head.next.next.next.data)"
   ]
  },
  {
   "cell_type": "code",
   "execution_count": null,
   "id": "3af4fbb8-8d22-47cb-84c9-121b190c811e",
   "metadata": {},
   "outputs": [],
   "source": []
  }
 ],
 "metadata": {
  "kernelspec": {
   "display_name": "Python 3 (ipykernel)",
   "language": "python",
   "name": "python3"
  },
  "language_info": {
   "codemirror_mode": {
    "name": "ipython",
    "version": 3
   },
   "file_extension": ".py",
   "mimetype": "text/x-python",
   "name": "python",
   "nbconvert_exporter": "python",
   "pygments_lexer": "ipython3",
   "version": "3.12.3"
  }
 },
 "nbformat": 4,
 "nbformat_minor": 5
}
