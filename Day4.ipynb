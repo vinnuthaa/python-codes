{
 "cells": [
  {
   "cell_type": "markdown",
   "id": "0605970b-9c33-431c-8cbe-783f6fce7128",
   "metadata": {},
   "source": [
    "#File handling\n",
    "\n",
    "create\n",
    "read\n",
    "update\n",
    "delete\n",
    "\n",
    "it is a crud operation\n",
    "\n",
    "#file modes\n",
    "\n",
    "read \n",
    "write\n",
    "append"
   ]
  },
  {
   "cell_type": "code",
   "execution_count": 25,
   "id": "450fea9f-ed28-446e-8b40-f5a138ff6c44",
   "metadata": {},
   "outputs": [],
   "source": [
    "#open and write \n",
    "\n",
    "import os\n",
    "\n",
    "with open(\"file1.txt\",'w') as f:\n",
    "    f.write(\"This is first txt in file\" )\n",
    "    f.close()"
   ]
  },
  {
   "cell_type": "code",
   "execution_count": 12,
   "id": "0822b479-1d2d-4db2-bf45-bf4c04edcc34",
   "metadata": {},
   "outputs": [],
   "source": [
    "#remove a file\n",
    "\n",
    "import os\n",
    "os.remove(\"file1.txt\")"
   ]
  },
  {
   "cell_type": "code",
   "execution_count": 28,
   "id": "b8d1fa23-5c15-46fc-89e5-36a0177c791d",
   "metadata": {},
   "outputs": [
    {
     "name": "stdout",
     "output_type": "stream",
     "text": [
      "This is first txt in file hii\n",
      "vin\n"
     ]
    }
   ],
   "source": [
    "#reading word by word\n",
    "\n",
    "import os\n",
    "\n",
    "with open(\"file1.txt\",'r')as f:\n",
    "    for a in f.read().split(\"/n\"):\n",
    "        print(a)\n",
    "        print(\"vin\")\n",
    "\n",
    "f.close()"
   ]
  },
  {
   "cell_type": "code",
   "execution_count": 27,
   "id": "609e36c8-058b-4a1e-8266-ef2125f284e5",
   "metadata": {},
   "outputs": [
    {
     "name": "stdout",
     "output_type": "stream",
     "text": [
      "This is first txt in file\n"
     ]
    }
   ],
   "source": [
    "#to append\n",
    "\n",
    "import os\n",
    "\n",
    "with open(\"file1.txt\",'a')as f:\n",
    "        f.write(\" hii\")\n",
    "        print(a)\n",
    "        f.close()"
   ]
  },
  {
   "cell_type": "code",
   "execution_count": 29,
   "id": "19ac0873-5df6-4be8-a210-235388cbbcc3",
   "metadata": {},
   "outputs": [
    {
     "name": "stdout",
     "output_type": "stream",
     "text": [
      "This is first txt in file \n"
     ]
    }
   ],
   "source": [
    "import os\n",
    "\n",
    "f = open(\"file1.txt\",'r')\n",
    "print(f.read())"
   ]
  },
  {
   "cell_type": "code",
   "execution_count": 68,
   "id": "aa304829-c317-464f-8beb-da815e7dadd9",
   "metadata": {},
   "outputs": [
    {
     "name": "stdin",
     "output_type": "stream",
     "text": [
      "Enter the fruit name : \n",
      " banana\n",
      "Enter the fruit name : \n",
      " mango\n",
      "Enter the fruit name : \n",
      " grapes\n"
     ]
    },
    {
     "name": "stdout",
     "output_type": "stream",
     "text": [
      "bananamangograpes\n",
      "watermelonmangograpes\n"
     ]
    },
    {
     "data": {
      "text/plain": [
       "<function TextIOWrapper.close()>"
      ]
     },
     "execution_count": 68,
     "metadata": {},
     "output_type": "execute_result"
    }
   ],
   "source": [
    "import os\n",
    "\n",
    "with open(\"fruitName.txt\",'w') as f:\n",
    "    for i in range(0,3):\n",
    "        f.write(input(\"Enter the fruit name : \\n\"))\n",
    "        f.write(\"\\n\")\n",
    "\n",
    "with open(\"fruitName.txt\",'r')as f:\n",
    "    a= f.read()\n",
    "    print(a)\n",
    "    n=a.replace(\"banana\",\"watermelon\")\n",
    "    print(n)\n",
    "\n",
    "f.close()"
   ]
  },
  {
   "cell_type": "code",
   "execution_count": 69,
   "id": "2e10bc5b-75f7-49b4-b640-4b1bd2240c23",
   "metadata": {},
   "outputs": [
    {
     "name": "stdin",
     "output_type": "stream",
     "text": [
      "Enter the temprature: 45\n"
     ]
    },
    {
     "name": "stdout",
     "output_type": "stream",
     "text": [
      "celsius to fahrenheit: 113.0\n"
     ]
    }
   ],
   "source": [
    "#Convert a temperature from Celsius to Fahrenheit.\n",
    "\n",
    "celsius=int(input(\"Enter the temprature:\"))\n",
    "\n",
    "fahrenheit = (celsius * 1.8) + 32\n",
    "\n",
    "print(\"celsius to fahrenheit:\",fahrenheit)"
   ]
  },
  {
   "cell_type": "code",
   "execution_count": 70,
   "id": "8f5bff14-846f-45b7-bafd-ff8e62b6afab",
   "metadata": {},
   "outputs": [
    {
     "name": "stdout",
     "output_type": "stream",
     "text": [
      "second largest number: 76\n"
     ]
    }
   ],
   "source": [
    "#Find the second largest element in a list.\n",
    "\n",
    "a=[54,6,89,76,45,8]\n",
    "a.sort()\n",
    "print(\"second largest number:\",a[-2])"
   ]
  },
  {
   "cell_type": "code",
   "execution_count": 1,
   "id": "4e0c2877-78f8-4ffb-9fc5-3e42354080f6",
   "metadata": {},
   "outputs": [
    {
     "name": "stdin",
     "output_type": "stream",
     "text": [
      "Enter the number: 3\n"
     ]
    },
    {
     "name": "stdout",
     "output_type": "stream",
     "text": [
      "3 is repeated  2 times\n"
     ]
    }
   ],
   "source": [
    "# Count the occurrences of each element in a list.\n",
    "\n",
    "key=[1,2,3,4,5,3,7,2,4]\n",
    "count=int(input(\"Enter the number:\"))\n",
    "n=0\n",
    "for i in range (0,len(key)):\n",
    "    if count==key[i]:\n",
    "        n+=1\n",
    "print(count,\"is repeated \",n,\"times\")\n",
    "   "
   ]
  },
  {
   "cell_type": "code",
   "execution_count": 2,
   "id": "4f84a571-6c18-4ee4-9142-9308f95ff918",
   "metadata": {},
   "outputs": [
    {
     "name": "stdout",
     "output_type": "stream",
     "text": [
      "sum of even number is: 16\n"
     ]
    }
   ],
   "source": [
    "#sum of even numbers in the list\n",
    "\n",
    "list=[1,2,3,5,6,9,8,3]\n",
    "sum=0\n",
    "for i in list:\n",
    "    if i%2==0:\n",
    "        sum+=i\n",
    "print(\"sum of even number is:\",sum)"
   ]
  },
  {
   "cell_type": "code",
   "execution_count": 3,
   "id": "9808172e-06b3-46ae-8086-089c0018448e",
   "metadata": {},
   "outputs": [
    {
     "name": "stdin",
     "output_type": "stream",
     "text": [
      "Enter the string:  hii\n"
     ]
    },
    {
     "name": "stdout",
     "output_type": "stream",
     "text": [
      "Number of vowels in the string: 2\n"
     ]
    }
   ],
   "source": [
    "#find the number of vowels in string\n",
    "\n",
    "string = input(\"Enter the string: \")\n",
    "count = 0\n",
    "\n",
    "vowels = ['a', 'e', 'i', 'o', 'u']\n",
    "for char in string:\n",
    "    if char in vowels:\n",
    "        count += 1\n",
    "\n",
    "print(\"Number of vowels in the string:\", count)"
   ]
  },
  {
   "cell_type": "code",
   "execution_count": 4,
   "id": "95d650e8-f05d-43be-b642-3aa15ebb1699",
   "metadata": {},
   "outputs": [
    {
     "name": "stdin",
     "output_type": "stream",
     "text": [
      " hii hello\n"
     ]
    },
    {
     "name": "stdout",
     "output_type": "stream",
     "text": [
      "iih olleh\n"
     ]
    }
   ],
   "source": [
    "#to reverse the words in the given sentence\n",
    "sentence = input()\n",
    "words = sentence.split()\n",
    "reversed_sentence = \" \".join(word[::-1] for word in words)\n",
    "print(reversed_sentence)"
   ]
  },
  {
   "cell_type": "code",
   "execution_count": null,
   "id": "30da19cc-1d04-4695-b1a5-29e23efd8667",
   "metadata": {},
   "outputs": [],
   "source": []
  }
 ],
 "metadata": {
  "kernelspec": {
   "display_name": "Python 3 (ipykernel)",
   "language": "python",
   "name": "python3"
  },
  "language_info": {
   "codemirror_mode": {
    "name": "ipython",
    "version": 3
   },
   "file_extension": ".py",
   "mimetype": "text/x-python",
   "name": "python",
   "nbconvert_exporter": "python",
   "pygments_lexer": "ipython3",
   "version": "3.12.3"
  }
 },
 "nbformat": 4,
 "nbformat_minor": 5
}
