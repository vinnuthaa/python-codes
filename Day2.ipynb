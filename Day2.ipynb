{
 "cells": [
  {
   "cell_type": "code",
   "execution_count": 8,
   "id": "5515fccc-f88a-49a9-80d0-2d76bb502e2d",
   "metadata": {},
   "outputs": [
    {
     "name": "stdin",
     "output_type": "stream",
     "text": [
      "Enter ur name: vinu\n",
      "Enter ur age: 19\n"
     ]
    },
    {
     "name": "stdout",
     "output_type": "stream",
     "text": [
      "vinu\n",
      "your eligible\n"
     ]
    }
   ],
   "source": [
    "name = input(\"Enter ur name:\")\n",
    "age = int(input(\"Enter ur age:\"))\n",
    "\n",
    "if age>=18:\n",
    "    print(name)\n",
    "    print(\"your eligible\")\n",
    "else:\n",
    "    print(name)\n",
    "    print(\"your not eligible\")"
   ]
  },
  {
   "cell_type": "code",
   "execution_count": 11,
   "id": "0e539c40-f9a1-4e37-ae7a-5ef48901e4a9",
   "metadata": {},
   "outputs": [
    {
     "name": "stdin",
     "output_type": "stream",
     "text": [
      "enter the value of a: 5\n",
      "enter the value of b: 10\n"
     ]
    },
    {
     "name": "stdout",
     "output_type": "stream",
     "text": [
      "b is greater\n"
     ]
    }
   ],
   "source": [
    "a = int(input(\"enter the value of a:\"))\n",
    "b = int(input(\"enter the value of b:\"))\n",
    "\n",
    "if a<b:\n",
    "    print(\"b is greater\")\n",
    "else:\n",
    "    print(\"a is greater\")"
   ]
  },
  {
   "cell_type": "code",
   "execution_count": 17,
   "id": "8878dc6f-facf-49b0-8b5a-9b36ba789df0",
   "metadata": {},
   "outputs": [
    {
     "name": "stdin",
     "output_type": "stream",
     "text": [
      "enter the value of a: 5\n",
      "enter the value of b: 10\n",
      "enter the value of c: 3\n"
     ]
    },
    {
     "name": "stdout",
     "output_type": "stream",
     "text": [
      "b is greater\n"
     ]
    }
   ],
   "source": [
    "a = int(input(\"enter the value of a:\"))\n",
    "b = int(input(\"enter the value of b:\"))\n",
    "c = int(input(\"enter the value of c:\"))\n",
    "\n",
    "if a>b:\n",
    "    if a>c:\n",
    "        print(\"a is greater\")\n",
    "    else:\n",
    "        print(\"c is greater\")\n",
    "else:\n",
    "    if b>c:\n",
    "        print(\"b is greater\")\n",
    "    else:\n",
    "        print(\"c is greater\")"
   ]
  },
  {
   "cell_type": "code",
   "execution_count": 24,
   "id": "fee72ce8-5126-4d9d-bd33-f07d360f1f31",
   "metadata": {},
   "outputs": [
    {
     "name": "stdin",
     "output_type": "stream",
     "text": [
      "enter the marks 65\n"
     ]
    },
    {
     "name": "stdout",
     "output_type": "stream",
     "text": [
      "grade=B\n"
     ]
    }
   ],
   "source": [
    "marks=int(input(\"enter the marks\"))\n",
    "if marks>=90 and marks<=100:\n",
    "    print(\"grade=A+\")\n",
    "else:\n",
    "    if marks>=80 and marks<=90:\n",
    "        print(\"grade=A\")\n",
    "    else:\n",
    "         if marks>=70 and marks<=80:\n",
    "             print(\"grade=B+\")\n",
    "         else:\n",
    "             if marks>=60 and marks<=70:\n",
    "                 print(\"grade=B\")\n",
    "             else:   \n",
    "                if marks>=60 and marks<=70:\n",
    "                   print(\"grade=C\") \n",
    "                else:\n",
    "                    if marks>=50 and marks<=60:\n",
    "                        print(\"grade=D\")\n",
    "                    else:\n",
    "                        if marks>=40 and marks<=50:\n",
    "                           print(\"grade=E\")\n",
    "                        else:\n",
    "                            if marks>=0 and marks<=40:\n",
    "                               print(\"grade=fail\")"
   ]
  },
  {
   "cell_type": "code",
   "execution_count": 20,
   "id": "4e95d6df-f2b6-4ee3-9ebf-2bd3ff20050a",
   "metadata": {},
   "outputs": [
    {
     "name": "stdin",
     "output_type": "stream",
     "text": [
      "enter the marks  70\n"
     ]
    },
    {
     "name": "stdout",
     "output_type": "stream",
     "text": [
      "grade:B+\n"
     ]
    }
   ],
   "source": [
    "marks=int(input(\"enter the marks \"))\n",
    "if marks>=90 and marks<=100:\n",
    "    print(\"grade:A+\")\n",
    "elif marks>100:\n",
    "    print(\"invalid marks entered\")\n",
    "elif marks>=80:\n",
    "    print(\"grade:A\")\n",
    "elif marks>=70:\n",
    "    print(\"grade:B+\")\n",
    "elif marks>=60:\n",
    "    print(\"grade:B\")\n",
    "elif marks>=50:\n",
    "    print(\"grade:C\")\n",
    "elif marks>=40:\n",
    "    print(\"grade:D\")\n",
    "elif marks>=30:\n",
    "    print(\"grade:E\")\n",
    "elif marks<0:\n",
    "    print(\"invalid marks entered\")\n",
    "else:\n",
    "    print(\"fail\")"
   ]
  },
  {
   "cell_type": "code",
   "execution_count": 23,
   "id": "3fdab161-06fb-40a4-8a1d-9f264ceb1541",
   "metadata": {},
   "outputs": [
    {
     "name": "stdin",
     "output_type": "stream",
     "text": [
      "Enter the day no: 6\n"
     ]
    },
    {
     "name": "stdout",
     "output_type": "stream",
     "text": [
      "Friday\n"
     ]
    }
   ],
   "source": [
    "day = int(input(\"Enter the day no:\"))\n",
    "\n",
    "match day:\n",
    "\n",
    "    case 1: print(\"Sunday\")\n",
    "    case 2: print(\"Monday\")\n",
    "    case 3: print(\"Tuesday\")\n",
    "    case 4: print(\"Wednesday\")\n",
    "    case 5: print(\"Thursday\")\n",
    "    case 6: print(\"Friday\")\n",
    "    case 7: print(\"Saturday\")\n",
    "    case _: print(\"invalid number\")"
   ]
  },
  {
   "cell_type": "code",
   "execution_count": 3,
   "id": "34774144-b0af-4108-bc6b-ca900fb7ad02",
   "metadata": {},
   "outputs": [
    {
     "name": "stdout",
     "output_type": "stream",
     "text": [
      "0\n",
      "1\n",
      "2\n",
      "3\n",
      "4\n",
      "5\n",
      "6\n",
      "7\n",
      "8\n",
      "9\n"
     ]
    }
   ],
   "source": [
    "x=0\n",
    "while x<10:\n",
    "    print(x)\n",
    "    x=x+1"
   ]
  },
  {
   "cell_type": "code",
   "execution_count": 2,
   "id": "53ba3124-89e1-43c2-ad90-86ffa8c85b44",
   "metadata": {},
   "outputs": [
    {
     "name": "stdout",
     "output_type": "stream",
     "text": [
      "0\n",
      "1\n",
      "2\n",
      "3\n",
      "4\n",
      "5\n",
      "6\n",
      "7\n",
      "8\n",
      "9\n"
     ]
    }
   ],
   "source": [
    "for y in range(0,10):\n",
    "    print(y)"
   ]
  },
  {
   "cell_type": "code",
   "execution_count": 5,
   "id": "e70a3d0e-14bc-4a67-98a8-d01720de9f1d",
   "metadata": {},
   "outputs": [
    {
     "name": "stdin",
     "output_type": "stream",
     "text": [
      "Enter the number of rows 5\n"
     ]
    },
    {
     "name": "stdout",
     "output_type": "stream",
     "text": [
      "* \n",
      "* * \n",
      "* * * \n",
      "* * * * \n",
      "* * * * * \n"
     ]
    }
   ],
   "source": [
    "n = int(input(\"Enter the number of rows\"))           \n",
    "for i in range(0, n):       \n",
    "        for j in range(0, i + 1):\n",
    "            print(\"* \", end=\"\")           \n",
    "        print() "
   ]
  },
  {
   "cell_type": "code",
   "execution_count": 11,
   "id": "a59ee69e-06c0-4d46-8002-518fb5b21507",
   "metadata": {},
   "outputs": [
    {
     "name": "stdin",
     "output_type": "stream",
     "text": [
      "enter the number of terms: 5\n"
     ]
    },
    {
     "name": "stdout",
     "output_type": "stream",
     "text": [
      "0 1 1 2 3 "
     ]
    }
   ],
   "source": [
    "a=0\n",
    "b=1\n",
    "n = int(input(\"enter the number of terms:\"))\n",
    "print(a,b,end=\" \")\n",
    "\n",
    "for x in range(0,n-2):\n",
    "    c=a+b\n",
    "    print(c,end=\" \")\n",
    "    a=b\n",
    "    b=c"
   ]
  },
  {
   "cell_type": "code",
   "execution_count": 14,
   "id": "4b611380-c974-40c5-9496-44abba04e129",
   "metadata": {},
   "outputs": [
    {
     "name": "stdin",
     "output_type": "stream",
     "text": [
      "enter value of A: 6\n",
      "enter value of B: 7\n"
     ]
    },
    {
     "data": {
      "text/plain": [
       "13"
      ]
     },
     "execution_count": 14,
     "metadata": {},
     "output_type": "execute_result"
    }
   ],
   "source": [
    "#functions\n",
    "def abcd(a,b):\n",
    "    c=a+b\n",
    "    return c\n",
    "\n",
    "A=int(input(\"enter value of A:\"))\n",
    "B=int(input(\"enter value of B:\"))\n",
    "\n",
    "abcd(A,B)"
   ]
  },
  {
   "cell_type": "code",
   "execution_count": 10,
   "id": "c3b43092-0a60-4063-81f9-b246696c9731",
   "metadata": {},
   "outputs": [
    {
     "name": "stdout",
     "output_type": "stream",
     "text": [
      "Please select operation:\n",
      "1. Add\n",
      "2. Subtract\n",
      "3. Multiply\n",
      "4. Divide\n",
      "5. Modules\n",
      "6. power\n",
      "\n"
     ]
    },
    {
     "name": "stdin",
     "output_type": "stream",
     "text": [
      "Select operations : 6\n",
      "Enter first number:  3\n",
      "Enter second number:  3\n"
     ]
    },
    {
     "name": "stdout",
     "output_type": "stream",
     "text": [
      "3 ** 3 = 27\n"
     ]
    }
   ],
   "source": [
    "#simple arthametic opretors\n",
    "def add(num1, num2):\n",
    "    return num1 + num2\n",
    " \n",
    "def subtract(num1, num2):\n",
    "    return num1 - num2\n",
    "\n",
    "def multiply(num1, num2):\n",
    "    return num1 * num2\n",
    " \n",
    "def divide(num1, num2):\n",
    "    return num1 / num2\n",
    "\n",
    "def mod(num1, num2):\n",
    "    return num1 % num2\n",
    "\n",
    "def power(num1, num2):\n",
    "    return num1 ** num2\n",
    " \n",
    "print(\"Please select operation:\\n\" \\\n",
    "        \"1. Add\\n\" \\\n",
    "        \"2. Subtract\\n\" \\\n",
    "        \"3. Multiply\\n\" \\\n",
    "        \"4. Divide\\n\" \\\n",
    "        \"5. Modules\\n\" \\\n",
    "        \"6. power\\n\" )\n",
    " \n",
    "n = int(input(\"Select operations :\"))\n",
    " \n",
    "num1 = int(input(\"Enter first number: \"))\n",
    "num2 = int(input(\"Enter second number: \"))\n",
    " \n",
    "if n == 1:\n",
    "    print(num1, \"+\", num2, \"=\",\n",
    "                    add(num1, num2))\n",
    " \n",
    "elif n == 2:\n",
    "    print(num1, \"-\", num2, \"=\",\n",
    "                    subtract(num1, num2))\n",
    " \n",
    "elif n == 3:\n",
    "    print(num1, \"*\", num2, \"=\",\n",
    "                    multiply(num1, num2))\n",
    " \n",
    "elif n == 4:\n",
    "    print(num1, \"/\", num2, \"=\",\n",
    "                    divide(num1, num2))\n",
    "elif n == 5:\n",
    "    print(num1, \"%\", num2, \"=\",\n",
    "                    mod(num1, num2))\n",
    "\n",
    "elif n == 6:\n",
    "    print(num1, \"**\", num2, \"=\",\n",
    "                    power(num1, num2))\n",
    "\n",
    "else:\n",
    "    print(\"Invalid input\")"
   ]
  },
  {
   "cell_type": "code",
   "execution_count": 2,
   "id": "c3d9bfed-a1b2-41c3-ab73-a6b7adda563b",
   "metadata": {},
   "outputs": [
    {
     "name": "stdin",
     "output_type": "stream",
     "text": [
      "Enter the word: level\n"
     ]
    },
    {
     "name": "stdout",
     "output_type": "stream",
     "text": [
      "Yes it is palindrome\n"
     ]
    }
   ],
   "source": [
    "#palindrome\n",
    "def Palindrome(s):\n",
    "    return s == s[::-1]\n",
    " \n",
    "s = input(\"Enter the word:\")\n",
    "ans = Palindrome(s)\n",
    " \n",
    "if ans:\n",
    "    print(\"Yes it is palindrome\")\n",
    "else:\n",
    "    print(\"No it is not palindrome\")"
   ]
  },
  {
   "cell_type": "code",
   "execution_count": 15,
   "id": "dce78d20-cfdd-4937-a4c1-4db720582b2d",
   "metadata": {},
   "outputs": [
    {
     "name": "stdin",
     "output_type": "stream",
     "text": [
      "Enter the digits: 4567\n"
     ]
    },
    {
     "name": "stdout",
     "output_type": "stream",
     "text": [
      "7654\n"
     ]
    }
   ],
   "source": [
    "#reverse number of digits\n",
    "n = int(input(\"Enter the digits:\"))\n",
    "rev = 0\n",
    "  \n",
    "while(n > 0): \n",
    "    a = n % 10\n",
    "    rev = rev * 10 + a \n",
    "    n = n // 10\n",
    "  \n",
    "print(rev) "
   ]
  },
  {
   "cell_type": "code",
   "execution_count": 18,
   "id": "86d26ada-c74a-490c-aa66-fa65c262d393",
   "metadata": {},
   "outputs": [
    {
     "name": "stdin",
     "output_type": "stream",
     "text": [
      "Enter the number: 11\n"
     ]
    },
    {
     "name": "stdout",
     "output_type": "stream",
     "text": [
      "11 is a prime number\n"
     ]
    }
   ],
   "source": [
    "#prime number\n",
    "num = int(input(\"Enter the number:\"))\n",
    "if num > 1:\n",
    "    for i in range(2, (num//2)+1):\n",
    "\n",
    "        if (num % i) == 0:\n",
    "            print(num, \"is not a prime number\")\n",
    "            break\n",
    "    else:\n",
    "        print(num, \"is a prime number\")\n",
    "else:\n",
    "    print(num, \"is not a prime number\")"
   ]
  },
  {
   "cell_type": "code",
   "execution_count": 4,
   "id": "4fa426fe-5cee-4e9b-921b-11b4e30c1b87",
   "metadata": {},
   "outputs": [
    {
     "name": "stdin",
     "output_type": "stream",
     "text": [
      "Enter a number:  3\n"
     ]
    },
    {
     "name": "stdout",
     "output_type": "stream",
     "text": [
      "The factorial of 3 is 6\n"
     ]
    }
   ],
   "source": [
    "#factorial\n",
    "num = int(input(\"Enter a number: \"))    \n",
    "factorial = 1    \n",
    "if num < 0:    \n",
    "   print(\" enter only +ve numbers\") \n",
    "elif num == 0:    \n",
    "   print(\"The factorial of 0 is 1\")    \n",
    "else:    \n",
    "   for i in range(1,num + 1):    \n",
    "       factorial = factorial*i    \n",
    "   print(\"The factorial of\",num,\"is\",factorial)"
   ]
  },
  {
   "cell_type": "code",
   "execution_count": null,
   "id": "ee8e6c08-a628-4944-b420-884914566c01",
   "metadata": {},
   "outputs": [],
   "source": []
  }
 ],
 "metadata": {
  "kernelspec": {
   "display_name": "Python 3 (ipykernel)",
   "language": "python",
   "name": "python3"
  },
  "language_info": {
   "codemirror_mode": {
    "name": "ipython",
    "version": 3
   },
   "file_extension": ".py",
   "mimetype": "text/x-python",
   "name": "python",
   "nbconvert_exporter": "python",
   "pygments_lexer": "ipython3",
   "version": "3.12.3"
  }
 },
 "nbformat": 4,
 "nbformat_minor": 5
}
