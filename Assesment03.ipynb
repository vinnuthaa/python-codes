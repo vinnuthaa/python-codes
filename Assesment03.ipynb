{
 "cells": [
  {
   "cell_type": "code",
   "execution_count": 1,
   "id": "a84f4f81-a07d-4032-8391-73a1e56e1a92",
   "metadata": {},
   "outputs": [
    {
     "name": "stdin",
     "output_type": "stream",
     "text": [
      "Enter the temprature: 54\n"
     ]
    },
    {
     "name": "stdout",
     "output_type": "stream",
     "text": [
      "celsius to fahrenheit: 129.2\n"
     ]
    }
   ],
   "source": [
    "#Convert a temperature from Celsius to Fahrenheit.\n",
    "\n",
    "celsius=int(input(\"Enter the temprature:\"))\n",
    "\n",
    "fahrenheit = (celsius * 1.8) + 32\n",
    "\n",
    "print(\"celsius to fahrenheit:\",fahrenheit)"
   ]
  },
  {
   "cell_type": "code",
   "execution_count": 7,
   "id": "8717f598-840a-4f0e-b774-f2d9e6961cbf",
   "metadata": {},
   "outputs": [
    {
     "name": "stdout",
     "output_type": "stream",
     "text": [
      "second largest number: 76\n"
     ]
    }
   ],
   "source": [
    "#Find the second largest element in a list.\n",
    "\n",
    "a=[54,6,89,76,45,8]\n",
    "a.sort()\n",
    "print(\"second largest number:\",a[-2])"
   ]
  },
  {
   "cell_type": "code",
   "execution_count": 14,
   "id": "1ee0e540-00fe-44de-af48-c979c2b5617a",
   "metadata": {},
   "outputs": [
    {
     "name": "stdin",
     "output_type": "stream",
     "text": [
      "Enter the number: 9\n"
     ]
    },
    {
     "name": "stdout",
     "output_type": "stream",
     "text": [
      "9 is repeated  0 times\n"
     ]
    }
   ],
   "source": [
    "# Count the occurrences of each element in a list.\n",
    "\n",
    "key=[1,2,3,4,5,3,7,2,4]\n",
    "count=int(input(\"Enter the number:\"))\n",
    "n=0\n",
    "for i in range (0,len(key)):\n",
    "    if count==key[i]:\n",
    "        n+=1\n",
    "print(count,\"is repeated \",n,\"times\")\n",
    "   "
   ]
  },
  {
   "cell_type": "code",
   "execution_count": 15,
   "id": "d2286307-eff1-45df-aa6f-02edc3df355c",
   "metadata": {},
   "outputs": [
    {
     "name": "stdout",
     "output_type": "stream",
     "text": [
      "sum of even number is: 16\n"
     ]
    }
   ],
   "source": [
    "#sum of even numbers in the list\n",
    "\n",
    "list=[1,2,3,5,6,9,8,3]\n",
    "sum=0\n",
    "for i in list:\n",
    "    if i%2==0:\n",
    "        sum+=i\n",
    "print(\"sum of even number is:\",sum)"
   ]
  },
  {
   "cell_type": "code",
   "execution_count": 16,
   "id": "519e191c-031e-4420-ae0b-b0ea540eaeda",
   "metadata": {},
   "outputs": [
    {
     "name": "stdin",
     "output_type": "stream",
     "text": [
      "Enter the string:  hii\n"
     ]
    },
    {
     "name": "stdout",
     "output_type": "stream",
     "text": [
      "Number of vowels in the string: 2\n"
     ]
    }
   ],
   "source": [
    "#find the number of vowels in string\n",
    "\n",
    "string = input(\"Enter the string: \")\n",
    "count = 0\n",
    "\n",
    "vowels = ['a', 'e', 'i', 'o', 'u']\n",
    "for char in string:\n",
    "    if char in vowels:\n",
    "        count += 1\n",
    "\n",
    "print(\"Number of vowels in the string:\", count)"
   ]
  },
  {
   "cell_type": "code",
   "execution_count": 17,
   "id": "b2efe36c-6061-4877-92ec-f0c7c43a0b99",
   "metadata": {},
   "outputs": [
    {
     "name": "stdin",
     "output_type": "stream",
     "text": [
      " hiii helooo\n"
     ]
    },
    {
     "name": "stdout",
     "output_type": "stream",
     "text": [
      "iiih oooleh\n"
     ]
    }
   ],
   "source": [
    "#to reverse the words in the given sentence\n",
    "sentence = input()\n",
    "words = sentence.split()\n",
    "reversed_sentence = \" \".join(word[::-1] for word in words)\n",
    "print(reversed_sentence)"
   ]
  },
  {
   "cell_type": "code",
   "execution_count": null,
   "id": "3ae31a71-85ad-4072-983a-791a9ed68a00",
   "metadata": {},
   "outputs": [],
   "source": []
  }
 ],
 "metadata": {
  "kernelspec": {
   "display_name": "Python 3 (ipykernel)",
   "language": "python",
   "name": "python3"
  },
  "language_info": {
   "codemirror_mode": {
    "name": "ipython",
    "version": 3
   },
   "file_extension": ".py",
   "mimetype": "text/x-python",
   "name": "python",
   "nbconvert_exporter": "python",
   "pygments_lexer": "ipython3",
   "version": "3.12.3"
  }
 },
 "nbformat": 4,
 "nbformat_minor": 5
}
