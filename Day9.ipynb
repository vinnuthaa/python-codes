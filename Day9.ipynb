{
 "cells": [
  {
   "cell_type": "code",
   "execution_count": 33,
   "id": "fc9dc21f-2ee6-4700-b464-dad059b87171",
   "metadata": {},
   "outputs": [
    {
     "name": "stdin",
     "output_type": "stream",
     "text": [
      "Enter the element: 5687\n"
     ]
    },
    {
     "name": "stdout",
     "output_type": "stream",
     "text": [
      "7 8 6 5 "
     ]
    }
   ],
   "source": [
    "#reverse using stack\n",
    "\n",
    "a=input(\"Enter the element:\")\n",
    "s=[]\n",
    "for e in a:\n",
    "    s.append(e)\n",
    "\n",
    "while len(s)>0:\n",
    "    print(s.pop(),end=\" \")"
   ]
  },
  {
   "cell_type": "code",
   "execution_count": 34,
   "id": "d14b144f-33a4-45a7-ae88-e277f5b66a1a",
   "metadata": {},
   "outputs": [
    {
     "name": "stdin",
     "output_type": "stream",
     "text": [
      "Enter the element: this is a car\n"
     ]
    },
    {
     "name": "stdout",
     "output_type": "stream",
     "text": [
      "car a is this "
     ]
    }
   ],
   "source": [
    "a=input(\"Enter the element:\")\n",
    "s=[]\n",
    "for e in a.split():\n",
    "    s.append(e)\n",
    "\n",
    "while len(s)>0:\n",
    "    print(s.pop(),end=\" \")"
   ]
  },
  {
   "cell_type": "code",
   "execution_count": 22,
   "id": "ef02c65c-5997-4c53-a504-3ab0a768fb53",
   "metadata": {},
   "outputs": [
    {
     "name": "stdin",
     "output_type": "stream",
     "text": [
      "Enter the infix expression: a+b*c\n"
     ]
    },
    {
     "name": "stdout",
     "output_type": "stream",
     "text": [
      "Postfix epression is: abc*+\n"
     ]
    }
   ],
   "source": [
    "#infix to postfix\n",
    "\n",
    "def prec(e):\n",
    "    if e == '^':\n",
    "        return 3\n",
    "    elif e == '/' or e == '*':\n",
    "        return 2\n",
    "    elif e == '+' or e == '-':\n",
    "        return 1\n",
    "    else:\n",
    "        return -1\n",
    "\n",
    "def ass():\n",
    "    if e == '^':\n",
    "        return 'R'\n",
    "    return 'L'\n",
    "\n",
    "exp=input(\"Enter the infix expression:\")\n",
    "s=[]\n",
    "result=''\n",
    "for e in exp:\n",
    "    if e.isalnum():\n",
    "        result+=e\n",
    "    elif e == '(':\n",
    "        s.append(e)\n",
    "    elif e == ')':\n",
    "        while s[-1] != '(':\n",
    "            result += s.pop()\n",
    "        s.pop()\n",
    "    else:\n",
    "        while s and (prec(e)<prec(-1) or\n",
    "                    (prec(e)==prec(s[-1]) and ass(e)=='L')):\n",
    "            result +=s.pop()\n",
    "        s.append(e)\n",
    "while s:\n",
    "    result += s.pop()\n",
    "print (\"Postfix epression is:\",result)"
   ]
  },
  {
   "cell_type": "markdown",
   "id": "594e7669-7793-4a18-9967-d0f0429119fa",
   "metadata": {},
   "source": [
    "Q: In arcade game, there is a king who got spelled by a witch that whenever he eat he have to take care of what is sequence of his food intake\n",
    "\n",
    "if he eats similar food one after other it will cancel out its effect and total energy will be decreased .\n",
    "your task is to determine the total energy of the king after his meal\n",
    "\n",
    "example:\n",
    "[\"apple\",\"Dal\",\"chapati\",\"rice\",\"rice\",\"apple\",\"apple\",\"dal\",\"rice\",\"Dal\",\"chapati\",\"chapati\"]\n",
    "\n",
    "consider that energy is released by each item is 1 unit \n",
    "\n",
    "so the total energy released by the king will be 6 units \n",
    "\n",
    "write a code to find the energy stored by the king have all the food."
   ]
  },
  {
   "cell_type": "code",
   "execution_count": 53,
   "id": "96f915c0-4874-4e0b-be93-beb31a2b409a",
   "metadata": {},
   "outputs": [
    {
     "name": "stdout",
     "output_type": "stream",
     "text": [
      "Total energy released: 6\n"
     ]
    }
   ],
   "source": [
    "\n",
    "def calculate_energy(food_list):\n",
    "    stack = []  # Using a stack to keep track of the sequence of foods\n",
    "    \n",
    "    for food in food_list:\n",
    "        if stack and stack[-1] == food:\n",
    "            # If the current food matches the top of the stack, cancel out\n",
    "            stack.pop()\n",
    "        else:\n",
    "            # Otherwise, add the current food to the stack\n",
    "            stack.append(food)\n",
    "    \n",
    "    # The total energy released is the size of the stack\n",
    "    return len(stack)\n",
    "\n",
    "\n",
    "foods = [\"apple\", \"Dal\", \"chapati\", \"rice\", \"rice\", \"apple\", \"apple\", \"dal\", \"rice\", \"Dal\", \"chapati\", \"chapati\"]\n",
    "total_energy = calculate_energy(foods)\n",
    "print(\"Total energy released:\", total_energy)"
   ]
  },
  {
   "cell_type": "code",
   "execution_count": 61,
   "id": "1e0593ba-00ce-468c-a609-4c1db835054d",
   "metadata": {},
   "outputs": [
    {
     "name": "stdin",
     "output_type": "stream",
     "text": [
      " [\"apple\", \"Dal\", \"chapati\", \"rice\", \"rice\", \"apple\", \"apple\", \"dal\", \"rice\", \"Dal\", \"chapati\", \"chapati\"]\n"
     ]
    },
    {
     "name": "stdout",
     "output_type": "stream",
     "text": [
      "8 ['[\"apple\",', '\"Dal\",', '\"chapati\",', '\"dal\",', '\"rice\",', '\"Dal\",', '\"chapati\",', '\"chapati\"]']\n"
     ]
    }
   ],
   "source": [
    "a=[item for item in input().split()]\n",
    "s=[]\n",
    "for item in a:\n",
    "    if not s:\n",
    "        s.append(item)\n",
    "    elif s[-1] == item:\n",
    "        s.pop()\n",
    "    else:\n",
    "        s.append(item)\n",
    "print(len(s),s)"
   ]
  },
  {
   "cell_type": "code",
   "execution_count": 9,
   "id": "6ebfacd7-12c6-4bcb-a895-945fad886e4e",
   "metadata": {},
   "outputs": [
    {
     "name": "stdin",
     "output_type": "stream",
     "text": [
      " ()\n"
     ]
    },
    {
     "name": "stdout",
     "output_type": "stream",
     "text": [
      "valid string\n"
     ]
    }
   ],
   "source": [
    "s=input()\n",
    "x=y=z=0\n",
    "for c in s:\n",
    "    match (c):\n",
    "        case '(':x+=1\n",
    "        case ')':x-=1\n",
    "        case '{':y+=1\n",
    "        case '}':y-=1\n",
    "        case '[':z+=1\n",
    "        case ']':z-=1\n",
    "        case _:continue\n",
    "if x+y+z==0:\n",
    "    print(\"valid string\")\n",
    "else:\n",
    "    print(\"invalid string\")"
   ]
  },
  {
   "cell_type": "code",
   "execution_count": 20,
   "id": "8478bab7-806b-411f-8abc-162dd2552046",
   "metadata": {},
   "outputs": [
    {
     "name": "stdin",
     "output_type": "stream",
     "text": [
      " (}\n"
     ]
    },
    {
     "name": "stdout",
     "output_type": "stream",
     "text": [
      "valid\n"
     ]
    }
   ],
   "source": [
    "s=input()\n",
    "s=[]\n",
    "for e in s:\n",
    "    if e== '(' or e =='{' or e == '[':\n",
    "        s.append(e)\n",
    "    elif (e ==')' and s[-1]=='(') or (e =='}' and s[-1]=='{') or (e ==']' and s[-1]=='['):\n",
    "        s.pop()\n",
    "    else: \n",
    "        continue\n",
    "\n",
    "if not s:\n",
    "    print (\"valid\")\n",
    "else:\n",
    "    print(\"invalid\")"
   ]
  },
  {
   "cell_type": "code",
   "execution_count": null,
   "id": "4b53a1a1-b906-43a4-8c11-cdfec6f287ad",
   "metadata": {},
   "outputs": [],
   "source": []
  }
 ],
 "metadata": {
  "kernelspec": {
   "display_name": "Python 3 (ipykernel)",
   "language": "python",
   "name": "python3"
  },
  "language_info": {
   "codemirror_mode": {
    "name": "ipython",
    "version": 3
   },
   "file_extension": ".py",
   "mimetype": "text/x-python",
   "name": "python",
   "nbconvert_exporter": "python",
   "pygments_lexer": "ipython3",
   "version": "3.12.3"
  }
 },
 "nbformat": 4,
 "nbformat_minor": 5
}
